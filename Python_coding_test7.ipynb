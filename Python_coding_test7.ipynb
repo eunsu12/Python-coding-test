{
  "nbformat": 4,
  "nbformat_minor": 0,
  "metadata": {
    "colab": {
      "name": "Python coding test7.ipynb",
      "provenance": [],
      "authorship_tag": "ABX9TyOLQeloKABgBZhKJNebmasO",
      "include_colab_link": true
    },
    "kernelspec": {
      "name": "python3",
      "display_name": "Python 3"
    },
    "language_info": {
      "name": "python"
    }
  },
  "cells": [
    {
      "cell_type": "markdown",
      "metadata": {
        "id": "view-in-github",
        "colab_type": "text"
      },
      "source": [
        "<a href=\"https://colab.research.google.com/github/eunsu12/Python-coding-test/blob/main/Python_coding_test7.ipynb\" target=\"_parent\"><img src=\"https://colab.research.google.com/assets/colab-badge.svg\" alt=\"Open In Colab\"/></a>"
      ]
    },
    {
      "cell_type": "markdown",
      "metadata": {
        "id": "R4xtmrLQKuoh"
      },
      "source": [
        "### 해시 테이블\n",
        "#### 해시: 해시 함수란 임의 크기 데이터를 고정 크기 값으로 매핑하는 데 사용할 수 있는 함수\n",
        "#### 충돌 최소화 중요\n",
        "#### 비둘기집 원리: n개 아이템을 m개 컨테이너에 넣을 때, n>m이라면 적어도 하난의 컨테이너에는 반드시 2개 이상의 아이템이 들어 있다는 원리\n",
        "#### 로드 팩터: 해시 테이블에 저장된 데이터 개수 n을 버킷의 개수 k로 나눈 것 ->  n/k 증가할 수록 성능은 점점 감소\n",
        "#### 파이썬 -> 해시테이블로 구현된 자료형? 딕셔너리 \n",
        "#### -> 충돌 시 어떤 방식? 오픈 어드레싱 방식(충돌 발생 시 탐사를 통해 빈 공간을 찾아나서는 방식)\n",
        "\n",
        "            "
      ]
    },
    {
      "cell_type": "markdown",
      "metadata": {
        "id": "Kuvcff5rLDt1"
      },
      "source": [
        "## 28) 해시맵 디자인\n",
        "### put,get,remove 이용"
      ]
    },
    {
      "cell_type": "code",
      "metadata": {
        "id": "UfjibmbwL0JB"
      },
      "source": [
        "import collections\n",
        "\n",
        "\n",
        "# Definition for singly-linked list.\n",
        "class ListNode:\n",
        "    def __init__(self, key=None, value=None):\n",
        "        self.key = key\n",
        "        self.value = value\n",
        "        self.next = None\n",
        "\n",
        "\n",
        "class MyHashMap:\n",
        "    # 초기화\n",
        "    def __init__(self):\n",
        "        self.size = 1000\n",
        "        self.table = collections.defaultdict(ListNode)\n",
        "\n",
        "    # 삽입\n",
        "    def put(self, key: int, value: int) -> None:\n",
        "        index = key % self.size\n",
        "        # 인덱스에 노드가 없다면 삽입 후 종료\n",
        "        if self.table[index].value is None:\n",
        "            self.table[index] = ListNode(key, value)\n",
        "            return\n",
        "\n",
        "        # 인덱스에 노드가 존재하는 경우 연결 리스트 처리\n",
        "        p = self.table[index]\n",
        "        while p:\n",
        "            if p.key == key:\n",
        "                p.value = value\n",
        "                return\n",
        "            if p.next is None:\n",
        "                break\n",
        "            p = p.next\n",
        "        p.next = ListNode(key, value)\n",
        "\n",
        "    # 조회\n",
        "    def get(self, key: int) -> int:\n",
        "        index = key % self.size\n",
        "        if self.table[index].value is None:\n",
        "            return -1\n",
        "\n",
        "        # 노드가 존재할때 일치하는 키 탐색\n",
        "        p = self.table[index]\n",
        "        while p:\n",
        "            if p.key == key:\n",
        "                return p.value\n",
        "            p = p.next\n",
        "        return -1\n",
        "\n",
        "    # 삭제\n",
        "    def remove(self, key: int) -> None:\n",
        "        index = key % self.size\n",
        "        if self.table[index].value is None:\n",
        "            return\n",
        "\n",
        "        # 인덱스의 첫 번째 노드일때 삭제 처리\n",
        "        p = self.table[index]\n",
        "        if p.key == key:\n",
        "            self.table[index] = ListNode() if p.next is None else p.next\n",
        "            return\n",
        "\n",
        "        # 연결 리스트 노드 삭제\n",
        "        prev = p\n",
        "        while p:\n",
        "            if p.key == key:\n",
        "                prev.next = p.next\n",
        "                return\n",
        "            prev, p = p, p.next"
      ],
      "execution_count": 1,
      "outputs": []
    },
    {
      "cell_type": "markdown",
      "metadata": {
        "id": "QOdDTsUtL1Id"
      },
      "source": [
        "## 29) 보석과 돌\n",
        "### J는 보석이며 S는 갖고 있는 돌이다 S에는 보석이 몇개나 있나? 대소문자는 구분"
      ]
    },
    {
      "cell_type": "code",
      "metadata": {
        "id": "jUx1XXQYIlOi"
      },
      "source": [
        "class Solution:\n",
        "    def numJewelsInStones( J: str, S: str) -> int:\n",
        "        freqs = {}\n",
        "        count = 0\n",
        "\n",
        "        # 돌(S)의 빈도 수 계산\n",
        "        for char in S:\n",
        "            if char not in freqs:\n",
        "                freqs[char] = 1\n",
        "            else:\n",
        "                freqs[char] += 1\n",
        "\n",
        "        # 보석(J)의 빈도 수 합산\n",
        "        for char in J:\n",
        "            if char in freqs:\n",
        "                count += freqs[char]\n",
        "\n",
        "        return count"
      ],
      "execution_count": 10,
      "outputs": []
    },
    {
      "cell_type": "code",
      "metadata": {
        "colab": {
          "base_uri": "https://localhost:8080/"
        },
        "id": "iWET6rYEQCk8",
        "outputId": "dddcf235-a4e4-4201-a033-1a3446b2c5e4"
      },
      "source": [
        "Solution.numJewelsInStones(J='aA',S='aAAbbbb')"
      ],
      "execution_count": 11,
      "outputs": [
        {
          "output_type": "execute_result",
          "data": {
            "text/plain": [
              "3"
            ]
          },
          "metadata": {
            "tags": []
          },
          "execution_count": 11
        }
      ]
    },
    {
      "cell_type": "markdown",
      "metadata": {
        "id": "W4voZ7bJL4iq"
      },
      "source": [
        "## 30) 중복 문자 없는 가장 긴 부분 문자열"
      ]
    },
    {
      "cell_type": "code",
      "metadata": {
        "id": "b2srBdRgLA-H"
      },
      "source": [
        "class Solution:\n",
        "    def lengthOfLongestSubstring(self, s: str) -> int:\n",
        "        used = {}\n",
        "        max_length = start = 0\n",
        "        for index, char in enumerate(s):\n",
        "            # 이미 등장했던 문자라면 `start` 위치 갱신\n",
        "            if char in used and start <= used[char]:\n",
        "                start = used[char] + 1\n",
        "            else:  # 최대 부분 문자열 길이 갱신\n",
        "                max_length = max(max_length, index - start + 1)\n",
        "\n",
        "            # 현재 문자의 위치 삽입\n",
        "            used[char] = index\n",
        "\n",
        "        return max_length"
      ],
      "execution_count": 3,
      "outputs": []
    }
  ]
}