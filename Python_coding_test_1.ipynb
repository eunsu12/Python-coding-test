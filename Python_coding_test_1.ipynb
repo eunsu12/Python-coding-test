{
  "nbformat": 4,
  "nbformat_minor": 0,
  "metadata": {
    "colab": {
      "name": "Python coding test 1",
      "provenance": [],
      "authorship_tag": "ABX9TyNBuLAcFY2wg3lm7lLBm9zx",
      "include_colab_link": true
    },
    "kernelspec": {
      "name": "python3",
      "display_name": "Python 3"
    }
  },
  "cells": [
    {
      "cell_type": "markdown",
      "metadata": {
        "id": "view-in-github",
        "colab_type": "text"
      },
      "source": [
        "<a href=\"https://colab.research.google.com/github/eunsu12/Python-coding-test/blob/main/Python_coding_test_1.ipynb\" target=\"_parent\"><img src=\"https://colab.research.google.com/assets/colab-badge.svg\" alt=\"Open In Colab\"/></a>"
      ]
    },
    {
      "cell_type": "markdown",
      "metadata": {
        "id": "yODTP1Q8xdxM"
      },
      "source": [
        "#2장 문제 "
      ]
    },
    {
      "cell_type": "code",
      "metadata": {
        "colab": {
          "base_uri": "https://localhost:8080/"
        },
        "id": "2iZ7Zob4JV-r",
        "outputId": "0a86dbfd-6431-4903-cdfd-de6cdfe02aad"
      },
      "source": [
        "#같은 변수 이름 sum이라 지칭했더니 \n",
        "#오류 'int' object is not callable\n",
        "#변수명이 예약어와 같기 때문에 오류\n",
        "sum1=0\n",
        "for i in range(1, 10+1):\n",
        "  sum1 +=i\n",
        "sum1"
      ],
      "execution_count": 1,
      "outputs": [
        {
          "output_type": "execute_result",
          "data": {
            "text/plain": [
              "55"
            ]
          },
          "metadata": {
            "tags": []
          },
          "execution_count": 1
        }
      ]
    },
    {
      "cell_type": "code",
      "metadata": {
        "colab": {
          "base_uri": "https://localhost:8080/"
        },
        "id": "0kYnIyRswSlz",
        "outputId": "48959ef1-44a6-477d-f8ef-3c91715849cd"
      },
      "source": [
        "sum2= sum(i for i in range(1,10+1))\n",
        "sum2 "
      ],
      "execution_count": 2,
      "outputs": [
        {
          "output_type": "execute_result",
          "data": {
            "text/plain": [
              "55"
            ]
          },
          "metadata": {
            "tags": []
          },
          "execution_count": 2
        }
      ]
    },
    {
      "cell_type": "code",
      "metadata": {
        "colab": {
          "base_uri": "https://localhost:8080/"
        },
        "id": "h4dzZJgzwTJS",
        "outputId": "9a4c5839-9cbe-41ff-f917-0658737b4140"
      },
      "source": [
        "sum3= sum(range(1,10+1))\n",
        "sum3"
      ],
      "execution_count": 3,
      "outputs": [
        {
          "output_type": "execute_result",
          "data": {
            "text/plain": [
              "55"
            ]
          },
          "metadata": {
            "tags": []
          },
          "execution_count": 3
        }
      ]
    },
    {
      "cell_type": "code",
      "metadata": {
        "colab": {
          "base_uri": "https://localhost:8080/"
        },
        "id": "GvqoXbSny-3M",
        "outputId": "2eb6f4ea-7e1b-4e85-e5b3-d779c185db93"
      },
      "source": [
        "def are_equal(a,b):\n",
        "  return a==b\n",
        "are_equal(10,10.0)"
      ],
      "execution_count": 4,
      "outputs": [
        {
          "output_type": "execute_result",
          "data": {
            "text/plain": [
              "True"
            ]
          },
          "metadata": {
            "tags": []
          },
          "execution_count": 4
        }
      ]
    },
    {
      "cell_type": "code",
      "metadata": {
        "colab": {
          "base_uri": "https://localhost:8080/"
        },
        "id": "qgUDF8S70Xwb",
        "outputId": "686410a0-9213-4cc0-f609-c8d93998c5b7"
      },
      "source": [
        "from typing import TypeVar\n",
        "T= TypeVar('T')\n",
        "U= TypeVar('U')\n",
        "\n",
        "def are_equal(a:T,b:U)-> bool:\n",
        "  return a==b\n",
        "are_equal(10,10.0)"
      ],
      "execution_count": 5,
      "outputs": [
        {
          "output_type": "execute_result",
          "data": {
            "text/plain": [
              "True"
            ]
          },
          "metadata": {
            "tags": []
          },
          "execution_count": 5
        }
      ]
    },
    {
      "cell_type": "code",
      "metadata": {
        "colab": {
          "base_uri": "https://localhost:8080/"
        },
        "id": "49Um9HJv1BQk",
        "outputId": "25b1bf18-6a84-4bad-d82f-9a482b0c1353"
      },
      "source": [
        "foo= ['A','B','C']\n",
        "for f in foo:\n",
        "  print(f)"
      ],
      "execution_count": 6,
      "outputs": [
        {
          "output_type": "stream",
          "text": [
            "A\n",
            "B\n",
            "C\n"
          ],
          "name": "stdout"
        }
      ]
    },
    {
      "cell_type": "markdown",
      "metadata": {
        "id": "70FK-cQa5j8D"
      },
      "source": [
        "###구조체"
      ]
    },
    {
      "cell_type": "code",
      "metadata": {
        "id": "L4uhgkw-2wWF"
      },
      "source": [
        "from collections import namedtuple\n",
        "MyStruct = namedtuple(\"MyStruct\",\"field1 field2 field3\")\n",
        "m= MyStruct(\"foo\",\"bar\",\"baz\")"
      ],
      "execution_count": 7,
      "outputs": []
    },
    {
      "cell_type": "code",
      "metadata": {
        "id": "CDMD-pj43oVR"
      },
      "source": [
        "from dataclasses import dataclass\n",
        "#초기화 함수 지원, 출력할때도 읽기 쉬운 포맷\n",
        "@dataclass\n",
        "class Product:\n",
        "  weight:int=None\n",
        "  price:float=None\n",
        "apple=Product()\n",
        "apple.price=10"
      ],
      "execution_count": 8,
      "outputs": []
    },
    {
      "cell_type": "markdown",
      "metadata": {
        "id": "Mk4BVSQJ5u8l"
      },
      "source": [
        "###클래스"
      ]
    },
    {
      "cell_type": "code",
      "metadata": {
        "colab": {
          "base_uri": "https://localhost:8080/"
        },
        "id": "19SjtGmY5MCT",
        "outputId": "cfcc0bf6-282a-4545-f06c-342d8dda13f4"
      },
      "source": [
        "from dataclasses import dataclass\n",
        "\n",
        "@dataclass\n",
        "class Rectangle:\n",
        "  width:int\n",
        "  height:int\n",
        "  def area(self):\n",
        "    return self.width * self.height\n",
        "\n",
        "rect=Rectangle(3,4)\n",
        "print(rect.area())"
      ],
      "execution_count": 9,
      "outputs": [
        {
          "output_type": "stream",
          "text": [
            "12\n"
          ],
          "name": "stdout"
        }
      ]
    },
    {
      "cell_type": "markdown",
      "metadata": {
        "id": "tkz47wC5PyvM"
      },
      "source": [
        "#3장 문제"
      ]
    },
    {
      "cell_type": "code",
      "metadata": {
        "id": "_3kuYxVj7OyD",
        "colab": {
          "base_uri": "https://localhost:8080/"
        },
        "outputId": "5e7cd1ff-5138-4f13-fb61-e66c35ffaeeb"
      },
      "source": [
        "#동적으로 할당될 수 있어\n",
        "#지양해야 한다\n",
        "a:str=1\n",
        "type(a)"
      ],
      "execution_count": 10,
      "outputs": [
        {
          "output_type": "execute_result",
          "data": {
            "text/plain": [
              "int"
            ]
          },
          "metadata": {
            "tags": []
          },
          "execution_count": 10
        }
      ]
    },
    {
      "cell_type": "code",
      "metadata": {
        "colab": {
          "base_uri": "https://localhost:8080/"
        },
        "id": "r0tsQI9nTO-v",
        "outputId": "6aa314ce-61c2-41cb-c25b-b8f7c96d219a"
      },
      "source": [
        "list(map(lambda x:x+10,[1,2,3]))"
      ],
      "execution_count": 11,
      "outputs": [
        {
          "output_type": "execute_result",
          "data": {
            "text/plain": [
              "[11, 12, 13]"
            ]
          },
          "metadata": {
            "tags": []
          },
          "execution_count": 11
        }
      ]
    },
    {
      "cell_type": "code",
      "metadata": {
        "colab": {
          "base_uri": "https://localhost:8080/"
        },
        "id": "ykk9CGUaTQpb",
        "outputId": "f2969cd7-d7bd-41f4-9fae-6e9f7d9f1c29"
      },
      "source": [
        "#리스트 컴프리헨션\n",
        "#n 1부터 10까지 중 2로 나눈 나머지가 1(홀수)->1,3,5,7,9\n",
        "#에 2를 곱한것을 보여주라->2,6,10,14,18\n",
        "[n*2 for n in range(1,10+1)if n%2==1]"
      ],
      "execution_count": 12,
      "outputs": [
        {
          "output_type": "execute_result",
          "data": {
            "text/plain": [
              "[2, 6, 10, 14, 18]"
            ]
          },
          "metadata": {
            "tags": []
          },
          "execution_count": 12
        }
      ]
    },
    {
      "cell_type": "code",
      "metadata": {
        "colab": {
          "base_uri": "https://localhost:8080/"
        },
        "id": "zFVZ1Ks9V68m",
        "outputId": "8315dad6-088f-4c82-a92e-92ff4d3e1b19"
      },
      "source": [
        "#리스트 컴프리헨션 사용하지 않는다면\n",
        "a=[]\n",
        "for n in range(1,10+1):\n",
        "  if n%2==1:\n",
        "    a.append(n*2)\n",
        "a"
      ],
      "execution_count": 13,
      "outputs": [
        {
          "output_type": "execute_result",
          "data": {
            "text/plain": [
              "[2, 6, 10, 14, 18]"
            ]
          },
          "metadata": {
            "tags": []
          },
          "execution_count": 13
        }
      ]
    },
    {
      "cell_type": "code",
      "metadata": {
        "colab": {
          "base_uri": "https://localhost:8080/"
        },
        "id": "XAbpvKyLWt4f",
        "outputId": "7056456d-5402-4986-84f4-0c57b6e00994"
      },
      "source": [
        "def get_natural_number():\n",
        "  n=0\n",
        "  while True:\n",
        "    n+=1\n",
        "    yield n\n",
        "#리턴 값 제너레이터\n",
        "get_natural_number()"
      ],
      "execution_count": 14,
      "outputs": [
        {
          "output_type": "execute_result",
          "data": {
            "text/plain": [
              "<generator object get_natural_number at 0x7f361ae275d0>"
            ]
          },
          "metadata": {
            "tags": []
          },
          "execution_count": 14
        }
      ]
    },
    {
      "cell_type": "code",
      "metadata": {
        "colab": {
          "base_uri": "https://localhost:8080/"
        },
        "id": "fkgQin_3X9Ez",
        "outputId": "d1d94a13-2af5-49a1-9f07-2db4476b5fe9"
      },
      "source": [
        "g= get_natural_number()\n",
        "for _ in range(0,5):\n",
        "  print(next(g))"
      ],
      "execution_count": 15,
      "outputs": [
        {
          "output_type": "stream",
          "text": [
            "1\n",
            "2\n",
            "3\n",
            "4\n",
            "5\n"
          ],
          "name": "stdout"
        }
      ]
    },
    {
      "cell_type": "code",
      "metadata": {
        "colab": {
          "base_uri": "https://localhost:8080/"
        },
        "id": "NQpbm4wKZDfR",
        "outputId": "0a442c92-43e6-4fbc-c4e6-5b0c25958d56"
      },
      "source": [
        "def generator():\n",
        "  yield 1\n",
        "  yield 'string'\n",
        "  yield True\n",
        "g= generator()\n",
        "g"
      ],
      "execution_count": 16,
      "outputs": [
        {
          "output_type": "execute_result",
          "data": {
            "text/plain": [
              "<generator object generator at 0x7f361ae279d0>"
            ]
          },
          "metadata": {
            "tags": []
          },
          "execution_count": 16
        }
      ]
    },
    {
      "cell_type": "code",
      "metadata": {
        "colab": {
          "base_uri": "https://localhost:8080/"
        },
        "id": "BgMccLf3ZSnw",
        "outputId": "68a0dab2-dc9c-4657-a2e7-a92865a2ba42"
      },
      "source": [
        "next(g)"
      ],
      "execution_count": 17,
      "outputs": [
        {
          "output_type": "execute_result",
          "data": {
            "text/plain": [
              "1"
            ]
          },
          "metadata": {
            "tags": []
          },
          "execution_count": 17
        }
      ]
    },
    {
      "cell_type": "code",
      "metadata": {
        "colab": {
          "base_uri": "https://localhost:8080/",
          "height": 34
        },
        "id": "4f7iF0hUZqZ4",
        "outputId": "78b2a34d-626d-409b-a1fd-018a0d5d1f75"
      },
      "source": [
        "next(g)"
      ],
      "execution_count": 18,
      "outputs": [
        {
          "output_type": "execute_result",
          "data": {
            "application/vnd.google.colaboratory.intrinsic+json": {
              "type": "string"
            },
            "text/plain": [
              "'string'"
            ]
          },
          "metadata": {
            "tags": []
          },
          "execution_count": 18
        }
      ]
    },
    {
      "cell_type": "code",
      "metadata": {
        "colab": {
          "base_uri": "https://localhost:8080/"
        },
        "id": "bfWU3IgNZqoj",
        "outputId": "8d5910e3-7179-40eb-ae46-454b88521982"
      },
      "source": [
        "next(g)"
      ],
      "execution_count": 19,
      "outputs": [
        {
          "output_type": "execute_result",
          "data": {
            "text/plain": [
              "True"
            ]
          },
          "metadata": {
            "tags": []
          },
          "execution_count": 19
        }
      ]
    },
    {
      "cell_type": "code",
      "metadata": {
        "colab": {
          "base_uri": "https://localhost:8080/"
        },
        "id": "g4vEUIoKZwqb",
        "outputId": "9e859b92-2abc-44e1-e4a6-0108e90db307"
      },
      "source": [
        "list(range(5))"
      ],
      "execution_count": 20,
      "outputs": [
        {
          "output_type": "execute_result",
          "data": {
            "text/plain": [
              "[0, 1, 2, 3, 4]"
            ]
          },
          "metadata": {
            "tags": []
          },
          "execution_count": 20
        }
      ]
    },
    {
      "cell_type": "code",
      "metadata": {
        "colab": {
          "base_uri": "https://localhost:8080/"
        },
        "id": "Wd2AsKk7Zw3P",
        "outputId": "01faee44-f136-4646-c1a2-47983ed3f401"
      },
      "source": [
        "range(5)"
      ],
      "execution_count": 21,
      "outputs": [
        {
          "output_type": "execute_result",
          "data": {
            "text/plain": [
              "range(0, 5)"
            ]
          },
          "metadata": {
            "tags": []
          },
          "execution_count": 21
        }
      ]
    },
    {
      "cell_type": "code",
      "metadata": {
        "colab": {
          "base_uri": "https://localhost:8080/"
        },
        "id": "V5J9wZSoZ6zF",
        "outputId": "cb8ab7aa-c9ad-4bd8-a137-b782702818b0"
      },
      "source": [
        "type(range(5))"
      ],
      "execution_count": 22,
      "outputs": [
        {
          "output_type": "execute_result",
          "data": {
            "text/plain": [
              "range"
            ]
          },
          "metadata": {
            "tags": []
          },
          "execution_count": 22
        }
      ]
    },
    {
      "cell_type": "code",
      "metadata": {
        "colab": {
          "base_uri": "https://localhost:8080/"
        },
        "id": "GMpiOBz_aCZj",
        "outputId": "e3781b1c-4730-4497-c585-dc6344c10593"
      },
      "source": [
        "#end=' ' 공백\n",
        "for i in range(5):\n",
        "  print(i,end=' ')"
      ],
      "execution_count": 23,
      "outputs": [
        {
          "output_type": "stream",
          "text": [
            "0 1 2 3 4 "
          ],
          "name": "stdout"
        }
      ]
    },
    {
      "cell_type": "code",
      "metadata": {
        "id": "LduhL-RcaTpg"
      },
      "source": [
        "a=[n for n in range(1000000)]\n",
        "b=range(1000000)"
      ],
      "execution_count": 24,
      "outputs": []
    },
    {
      "cell_type": "code",
      "metadata": {
        "colab": {
          "base_uri": "https://localhost:8080/"
        },
        "id": "5zvRvcMGdy5A",
        "outputId": "4da214ac-ae69-4bcd-e742-a003ac7e151b"
      },
      "source": [
        "len(a), len(b)"
      ],
      "execution_count": 25,
      "outputs": [
        {
          "output_type": "execute_result",
          "data": {
            "text/plain": [
              "(1000000, 1000000)"
            ]
          },
          "metadata": {
            "tags": []
          },
          "execution_count": 25
        }
      ]
    },
    {
      "cell_type": "code",
      "metadata": {
        "colab": {
          "base_uri": "https://localhost:8080/"
        },
        "id": "Pk5Sin3-dzZ1",
        "outputId": "3a1ac5df-0435-44f9-e850-b37406c22aa4"
      },
      "source": [
        "len(a)==len(b)"
      ],
      "execution_count": 26,
      "outputs": [
        {
          "output_type": "execute_result",
          "data": {
            "text/plain": [
              "True"
            ]
          },
          "metadata": {
            "tags": []
          },
          "execution_count": 26
        }
      ]
    },
    {
      "cell_type": "code",
      "metadata": {
        "colab": {
          "base_uri": "https://localhost:8080/"
        },
        "id": "akiDfeWOd_fa",
        "outputId": "b5bc6b5c-b6e3-4d7c-fbf8-c28326f02364"
      },
      "source": [
        "b"
      ],
      "execution_count": 27,
      "outputs": [
        {
          "output_type": "execute_result",
          "data": {
            "text/plain": [
              "range(0, 1000000)"
            ]
          },
          "metadata": {
            "tags": []
          },
          "execution_count": 27
        }
      ]
    },
    {
      "cell_type": "code",
      "metadata": {
        "colab": {
          "base_uri": "https://localhost:8080/"
        },
        "id": "bqwdMGEweH_C",
        "outputId": "20bb0d02-2dad-4d4b-cb90-d533355263ca"
      },
      "source": [
        "type(b)"
      ],
      "execution_count": 28,
      "outputs": [
        {
          "output_type": "execute_result",
          "data": {
            "text/plain": [
              "range"
            ]
          },
          "metadata": {
            "tags": []
          },
          "execution_count": 28
        }
      ]
    },
    {
      "cell_type": "code",
      "metadata": {
        "colab": {
          "base_uri": "https://localhost:8080/"
        },
        "id": "TXWsJQAOeVwJ",
        "outputId": "90892327-39f0-400f-d1ae-aee223571346"
      },
      "source": [
        "#sys. 바로 쓰면 오류\n",
        "#메모리 점유율\n",
        "import sys\n",
        "sys.getsizeof(a),sys.getsizeof(b)"
      ],
      "execution_count": 29,
      "outputs": [
        {
          "output_type": "execute_result",
          "data": {
            "text/plain": [
              "(8697472, 48)"
            ]
          },
          "metadata": {
            "tags": []
          },
          "execution_count": 29
        }
      ]
    },
    {
      "cell_type": "code",
      "metadata": {
        "colab": {
          "base_uri": "https://localhost:8080/"
        },
        "id": "g1xU-eJke4io",
        "outputId": "dab48c0d-b163-42d9-c224-c3639fc5d90e"
      },
      "source": [
        "b[999]"
      ],
      "execution_count": 30,
      "outputs": [
        {
          "output_type": "execute_result",
          "data": {
            "text/plain": [
              "999"
            ]
          },
          "metadata": {
            "tags": []
          },
          "execution_count": 30
        }
      ]
    },
    {
      "cell_type": "code",
      "metadata": {
        "colab": {
          "base_uri": "https://localhost:8080/"
        },
        "id": "zIED3SDNf2xo",
        "outputId": "555c8c9d-8e39-4f3b-d754-eb786eb63a1b"
      },
      "source": [
        "a=[1,2,3,2,45,2,5]\n",
        "a"
      ],
      "execution_count": 31,
      "outputs": [
        {
          "output_type": "execute_result",
          "data": {
            "text/plain": [
              "[1, 2, 3, 2, 45, 2, 5]"
            ]
          },
          "metadata": {
            "tags": []
          },
          "execution_count": 31
        }
      ]
    },
    {
      "cell_type": "code",
      "metadata": {
        "colab": {
          "base_uri": "https://localhost:8080/"
        },
        "id": "nRguZ1sbf3CR",
        "outputId": "cd5dca5d-5f68-4a5e-c4ea-35b30abc0c85"
      },
      "source": [
        "enumerate(a)"
      ],
      "execution_count": 32,
      "outputs": [
        {
          "output_type": "execute_result",
          "data": {
            "text/plain": [
              "<enumerate at 0x7f3618ee7b90>"
            ]
          },
          "metadata": {
            "tags": []
          },
          "execution_count": 32
        }
      ]
    },
    {
      "cell_type": "code",
      "metadata": {
        "colab": {
          "base_uri": "https://localhost:8080/"
        },
        "id": "rdmvSOPmgcUd",
        "outputId": "69937ecc-beca-40a8-bc73-48c214deec00"
      },
      "source": [
        "#인덱스를 자동으로 부여\n",
        "list(enumerate(a))"
      ],
      "execution_count": 33,
      "outputs": [
        {
          "output_type": "execute_result",
          "data": {
            "text/plain": [
              "[(0, 1), (1, 2), (2, 3), (3, 2), (4, 45), (5, 2), (6, 5)]"
            ]
          },
          "metadata": {
            "tags": []
          },
          "execution_count": 33
        }
      ]
    },
    {
      "cell_type": "code",
      "metadata": {
        "colab": {
          "base_uri": "https://localhost:8080/"
        },
        "id": "YQWa-C7Kgkm_",
        "outputId": "e1c3380a-ff20-4ad8-a483-444659d9e9d1"
      },
      "source": [
        "for i in range(len(a)):\n",
        "  print(i,a[i])"
      ],
      "execution_count": 34,
      "outputs": [
        {
          "output_type": "stream",
          "text": [
            "0 1\n",
            "1 2\n",
            "2 3\n",
            "3 2\n",
            "4 45\n",
            "5 2\n",
            "6 5\n"
          ],
          "name": "stdout"
        }
      ]
    },
    {
      "cell_type": "code",
      "metadata": {
        "colab": {
          "base_uri": "https://localhost:8080/"
        },
        "id": "EWBozvUagkpG",
        "outputId": "77edead7-8838-4b1b-c11a-93e1486f85c5"
      },
      "source": [
        "#인덱스를 위한 변수를 별도로 관리\n",
        "i=0\n",
        "for v in a:\n",
        "  print(i,v)\n",
        "  i+=1"
      ],
      "execution_count": 35,
      "outputs": [
        {
          "output_type": "stream",
          "text": [
            "0 1\n",
            "1 2\n",
            "2 3\n",
            "3 2\n",
            "4 45\n",
            "5 2\n",
            "6 5\n"
          ],
          "name": "stdout"
        }
      ]
    },
    {
      "cell_type": "code",
      "metadata": {
        "colab": {
          "base_uri": "https://localhost:8080/"
        },
        "id": "rlErO6FOhN_a",
        "outputId": "75788a4a-c38d-47b0-d218-11d0caea72da"
      },
      "source": [
        "#가장 깔끔한 방식\n",
        "for i,v in enumerate(a):\n",
        "  print(i,v)"
      ],
      "execution_count": 36,
      "outputs": [
        {
          "output_type": "stream",
          "text": [
            "0 1\n",
            "1 2\n",
            "2 3\n",
            "3 2\n",
            "4 45\n",
            "5 2\n",
            "6 5\n"
          ],
          "name": "stdout"
        }
      ]
    },
    {
      "cell_type": "code",
      "metadata": {
        "colab": {
          "base_uri": "https://localhost:8080/"
        },
        "id": "yfQnmPqFhfi5",
        "outputId": "731e7b84-e62c-4988-a14e-bf162979c62f"
      },
      "source": [
        "5/3"
      ],
      "execution_count": 37,
      "outputs": [
        {
          "output_type": "execute_result",
          "data": {
            "text/plain": [
              "1.6666666666666667"
            ]
          },
          "metadata": {
            "tags": []
          },
          "execution_count": 37
        }
      ]
    },
    {
      "cell_type": "code",
      "metadata": {
        "colab": {
          "base_uri": "https://localhost:8080/"
        },
        "id": "OHIxoU_Hhso5",
        "outputId": "453636a1-20ae-4200-f1b5-7fa3202e1635"
      },
      "source": [
        "type(5/3)"
      ],
      "execution_count": 38,
      "outputs": [
        {
          "output_type": "execute_result",
          "data": {
            "text/plain": [
              "float"
            ]
          },
          "metadata": {
            "tags": []
          },
          "execution_count": 38
        }
      ]
    },
    {
      "cell_type": "code",
      "metadata": {
        "colab": {
          "base_uri": "https://localhost:8080/"
        },
        "id": "OWrBfwPfhtae",
        "outputId": "a30a60e0-6eb6-4f20-d582-65032acc1247"
      },
      "source": [
        "#// 나눗셈 연산자는 int(a/b)와 동일\n",
        "5//3,int(5/3)"
      ],
      "execution_count": 39,
      "outputs": [
        {
          "output_type": "execute_result",
          "data": {
            "text/plain": [
              "(1, 1)"
            ]
          },
          "metadata": {
            "tags": []
          },
          "execution_count": 39
        }
      ]
    },
    {
      "cell_type": "code",
      "metadata": {
        "colab": {
          "base_uri": "https://localhost:8080/"
        },
        "id": "cywkGQfniNUq",
        "outputId": "976a83ae-146a-4961-af35-6a046e25f096"
      },
      "source": [
        "type(5//3),type(int(5/3))"
      ],
      "execution_count": 40,
      "outputs": [
        {
          "output_type": "execute_result",
          "data": {
            "text/plain": [
              "(int, int)"
            ]
          },
          "metadata": {
            "tags": []
          },
          "execution_count": 40
        }
      ]
    },
    {
      "cell_type": "code",
      "metadata": {
        "colab": {
          "base_uri": "https://localhost:8080/"
        },
        "id": "7QbBCecIiT8t",
        "outputId": "f5735044-cbd7-4f1e-d2ce-58d558387869"
      },
      "source": [
        "#나머지\n",
        "5%3"
      ],
      "execution_count": 41,
      "outputs": [
        {
          "output_type": "execute_result",
          "data": {
            "text/plain": [
              "2"
            ]
          },
          "metadata": {
            "tags": []
          },
          "execution_count": 41
        }
      ]
    },
    {
      "cell_type": "code",
      "metadata": {
        "colab": {
          "base_uri": "https://localhost:8080/"
        },
        "id": "YVJZI2X0i50g",
        "outputId": "f523b99a-8f9c-4438-b9fe-b218de5a7099"
      },
      "source": [
        "#몫과 나머지를 한 번에 구할 때\n",
        "divmod(5,3)"
      ],
      "execution_count": 42,
      "outputs": [
        {
          "output_type": "execute_result",
          "data": {
            "text/plain": [
              "(1, 2)"
            ]
          },
          "metadata": {
            "tags": []
          },
          "execution_count": 42
        }
      ]
    },
    {
      "cell_type": "code",
      "metadata": {
        "colab": {
          "base_uri": "https://localhost:8080/"
        },
        "id": "2YQ0N7Qti57b",
        "outputId": "5a535174-4085-4f87-d7ce-2b6535c22f80"
      },
      "source": [
        "#한 칸 공백이 디폴트\n",
        "print('A1','B1')"
      ],
      "execution_count": 43,
      "outputs": [
        {
          "output_type": "stream",
          "text": [
            "A1 B1\n"
          ],
          "name": "stdout"
        }
      ]
    },
    {
      "cell_type": "code",
      "metadata": {
        "colab": {
          "base_uri": "https://localhost:8080/"
        },
        "id": "e85U8s0Fi6B3",
        "outputId": "43daab31-809e-40e3-d2ab-fbe63f3b11e1"
      },
      "source": [
        "print('A1','B1',sep=',')"
      ],
      "execution_count": 44,
      "outputs": [
        {
          "output_type": "stream",
          "text": [
            "A1,B1\n"
          ],
          "name": "stdout"
        }
      ]
    },
    {
      "cell_type": "code",
      "metadata": {
        "colab": {
          "base_uri": "https://localhost:8080/"
        },
        "id": "CuV9I_6Uj1Lz",
        "outputId": "c854596a-efbc-4123-ddfc-abf19eccf8c3"
      },
      "source": [
        "#줄바꿈 하지 않도록\n",
        "print('aa',end=' ')\n",
        "print('bb')"
      ],
      "execution_count": 45,
      "outputs": [
        {
          "output_type": "stream",
          "text": [
            "aa bb\n"
          ],
          "name": "stdout"
        }
      ]
    },
    {
      "cell_type": "code",
      "metadata": {
        "colab": {
          "base_uri": "https://localhost:8080/"
        },
        "id": "O-T9ZD9Sj1XF",
        "outputId": "49421fc6-74d5-466b-ab88-1f33ed88f7ff"
      },
      "source": [
        "a=['A','B']\n",
        "print(' '.join(a))"
      ],
      "execution_count": 46,
      "outputs": [
        {
          "output_type": "stream",
          "text": [
            "A B\n"
          ],
          "name": "stdout"
        }
      ]
    },
    {
      "cell_type": "code",
      "metadata": {
        "colab": {
          "base_uri": "https://localhost:8080/"
        },
        "id": "oau-lJPXkknF",
        "outputId": "14a2233d-af0e-4f12-ad9c-121fd1e8f283"
      },
      "source": [
        "idx=1\n",
        "fruit='Apple'\n",
        "print('{0}:{1}'.format(idx+1,fruit))"
      ],
      "execution_count": 47,
      "outputs": [
        {
          "output_type": "stream",
          "text": [
            "2:Apple\n"
          ],
          "name": "stdout"
        }
      ]
    },
    {
      "cell_type": "code",
      "metadata": {
        "colab": {
          "base_uri": "https://localhost:8080/"
        },
        "id": "pAxAHC_Skkzy",
        "outputId": "ccdee345-c5f4-4c50-c7a5-db43b754c576"
      },
      "source": [
        "#인덱스 생략 가능\n",
        "print('{}:{}'.format(idx+1,fruit))"
      ],
      "execution_count": 48,
      "outputs": [
        {
          "output_type": "stream",
          "text": [
            "2:Apple\n"
          ],
          "name": "stdout"
        }
      ]
    },
    {
      "cell_type": "code",
      "metadata": {
        "colab": {
          "base_uri": "https://localhost:8080/"
        },
        "id": "tTuWXYshlCNI",
        "outputId": "63b0c20a-9de3-4c12-be98-2addeed6f043"
      },
      "source": [
        "print(f'{idx+1}:{fruit}')"
      ],
      "execution_count": 49,
      "outputs": [
        {
          "output_type": "stream",
          "text": [
            "2:Apple\n"
          ],
          "name": "stdout"
        }
      ]
    },
    {
      "cell_type": "code",
      "metadata": {
        "id": "x9rGrHSFlfeR"
      },
      "source": [
        "#불필요한 오류 방지\n",
        "class MyClass(object):\n",
        "  def method_a(self):\n",
        "    pass\n",
        "  def method_b(self):\n",
        "    print('Method B')\n",
        "c=MyClass()"
      ],
      "execution_count": 50,
      "outputs": []
    },
    {
      "cell_type": "code",
      "metadata": {
        "id": "bTBkAEhQl-JB"
      },
      "source": [
        "#모든 로컬 변수 출력\n",
        "import pprint\n",
        "pprint.pprint(locals())"
      ],
      "execution_count": null,
      "outputs": []
    },
    {
      "cell_type": "code",
      "metadata": {
        "id": "hYctQAffnKDK"
      },
      "source": [
        "#구글 파이썬 스타일 가이드\n",
        "#불변 객체 사용\n",
        "def foo(a,b=None):\n",
        "  if b is None:\n",
        "    b=[]\n",
        "#def foo(a,b: Optional[Sequence]=None):\n",
        "  #if b is None:\n",
        "   # b=[]"
      ],
      "execution_count": 52,
      "outputs": []
    },
    {
      "cell_type": "code",
      "metadata": {
        "colab": {
          "base_uri": "https://localhost:8080/"
        },
        "id": "D4WS_cFXq-t4",
        "outputId": "c8994f05-932c-45ea-ca74-c85774f5b2cf"
      },
      "source": [
        "import this"
      ],
      "execution_count": 53,
      "outputs": [
        {
          "output_type": "stream",
          "text": [
            "The Zen of Python, by Tim Peters\n",
            "\n",
            "Beautiful is better than ugly.\n",
            "Explicit is better than implicit.\n",
            "Simple is better than complex.\n",
            "Complex is better than complicated.\n",
            "Flat is better than nested.\n",
            "Sparse is better than dense.\n",
            "Readability counts.\n",
            "Special cases aren't special enough to break the rules.\n",
            "Although practicality beats purity.\n",
            "Errors should never pass silently.\n",
            "Unless explicitly silenced.\n",
            "In the face of ambiguity, refuse the temptation to guess.\n",
            "There should be one-- and preferably only one --obvious way to do it.\n",
            "Although that way may not be obvious at first unless you're Dutch.\n",
            "Now is better than never.\n",
            "Although never is often better than *right* now.\n",
            "If the implementation is hard to explain, it's a bad idea.\n",
            "If the implementation is easy to explain, it may be a good idea.\n",
            "Namespaces are one honking great idea -- let's do more of those!\n"
          ],
          "name": "stdout"
        }
      ]
    },
    {
      "cell_type": "markdown",
      "metadata": {
        "id": "7nCMVPOlwY1L"
      },
      "source": [
        "#4장 문제"
      ]
    },
    {
      "cell_type": "code",
      "metadata": {
        "colab": {
          "base_uri": "https://localhost:8080/"
        },
        "id": "zK06RR11q_Cl",
        "outputId": "faf631bf-c936-4ea7-9ad1-43ebca9a4a2d"
      },
      "source": [
        "for n in range(1,15+1):\n",
        "  print(n,n**2,2**n)"
      ],
      "execution_count": 54,
      "outputs": [
        {
          "output_type": "stream",
          "text": [
            "1 1 2\n",
            "2 4 4\n",
            "3 9 8\n",
            "4 16 16\n",
            "5 25 32\n",
            "6 36 64\n",
            "7 49 128\n",
            "8 64 256\n",
            "9 81 512\n",
            "10 100 1024\n",
            "11 121 2048\n",
            "12 144 4096\n",
            "13 169 8192\n",
            "14 196 16384\n",
            "15 225 32768\n"
          ],
          "name": "stdout"
        }
      ]
    },
    {
      "cell_type": "code",
      "metadata": {
        "colab": {
          "base_uri": "https://localhost:8080/"
        },
        "id": "u9oItxvhwsdF",
        "outputId": "f314ff31-d5b6-44c3-e267-b423fc4b6a22"
      },
      "source": [
        "#object>int>bool\n",
        "True==1,False==0"
      ],
      "execution_count": 55,
      "outputs": [
        {
          "output_type": "execute_result",
          "data": {
            "text/plain": [
              "(True, True)"
            ]
          },
          "metadata": {
            "tags": []
          },
          "execution_count": 55
        }
      ]
    },
    {
      "cell_type": "code",
      "metadata": {
        "colab": {
          "base_uri": "https://localhost:8080/"
        },
        "id": "56Gve8bf0fp4",
        "outputId": "12643772-8c71-41bc-faf1-9a0483c93e6f"
      },
      "source": [
        "#빈 집합이 아닐 때 {}\n",
        "a=set()\n",
        "a"
      ],
      "execution_count": 56,
      "outputs": [
        {
          "output_type": "execute_result",
          "data": {
            "text/plain": [
              "set()"
            ]
          },
          "metadata": {
            "tags": []
          },
          "execution_count": 56
        }
      ]
    },
    {
      "cell_type": "code",
      "metadata": {
        "colab": {
          "base_uri": "https://localhost:8080/"
        },
        "id": "ThcWw8FR0gr3",
        "outputId": "d0081443-f45a-4b0f-a4e2-e5f9ce18f84d"
      },
      "source": [
        "type(a)"
      ],
      "execution_count": 57,
      "outputs": [
        {
          "output_type": "execute_result",
          "data": {
            "text/plain": [
              "set"
            ]
          },
          "metadata": {
            "tags": []
          },
          "execution_count": 57
        }
      ]
    },
    {
      "cell_type": "code",
      "metadata": {
        "colab": {
          "base_uri": "https://localhost:8080/"
        },
        "id": "SyzH_iyO1dje",
        "outputId": "17f3d598-9f6b-49ac-e09b-e17088deecb8"
      },
      "source": [
        "a={'a','b','c'}\n",
        "type(a)"
      ],
      "execution_count": 58,
      "outputs": [
        {
          "output_type": "execute_result",
          "data": {
            "text/plain": [
              "set"
            ]
          },
          "metadata": {
            "tags": []
          },
          "execution_count": 58
        }
      ]
    },
    {
      "cell_type": "code",
      "metadata": {
        "colab": {
          "base_uri": "https://localhost:8080/"
        },
        "id": "WPISojAU1duo",
        "outputId": "207c4132-3e66-4d5e-dac4-14e712312689"
      },
      "source": [
        "a={'a':'A','b':'B','c':'C'}\n",
        "type(a)"
      ],
      "execution_count": 59,
      "outputs": [
        {
          "output_type": "execute_result",
          "data": {
            "text/plain": [
              "dict"
            ]
          },
          "metadata": {
            "tags": []
          },
          "execution_count": 59
        }
      ]
    },
    {
      "cell_type": "code",
      "metadata": {
        "colab": {
          "base_uri": "https://localhost:8080/"
        },
        "id": "X-yVrjAr2KTW",
        "outputId": "1c8df4d3-45ad-4359-c824-4af5af855c36"
      },
      "source": [
        "a={3,2,3,5}\n",
        "a"
      ],
      "execution_count": 60,
      "outputs": [
        {
          "output_type": "execute_result",
          "data": {
            "text/plain": [
              "{2, 3, 5}"
            ]
          },
          "metadata": {
            "tags": []
          },
          "execution_count": 60
        }
      ]
    },
    {
      "cell_type": "code",
      "metadata": {
        "colab": {
          "base_uri": "https://localhost:8080/"
        },
        "id": "sdz4aqTu2Kfk",
        "outputId": "a6d01464-368b-4b20-8794-fe8b20d12db7"
      },
      "source": [
        "#a변수는 다른 str타입인 def를 다시 참조했을 뿐 변경 아님\n",
        "a='abc'\n",
        "a='def'\n",
        "type(a)"
      ],
      "execution_count": 61,
      "outputs": [
        {
          "output_type": "execute_result",
          "data": {
            "text/plain": [
              "str"
            ]
          },
          "metadata": {
            "tags": []
          },
          "execution_count": 61
        }
      ]
    },
    {
      "cell_type": "code",
      "metadata": {
        "colab": {
          "base_uri": "https://localhost:8080/"
        },
        "id": "y8J6zROr28sm",
        "outputId": "42e1d11d-f4d6-4dc4-f7f2-6ef7309710ca"
      },
      "source": [
        "a='abc'\n",
        "id('abc'),id(a)"
      ],
      "execution_count": 62,
      "outputs": [
        {
          "output_type": "execute_result",
          "data": {
            "text/plain": [
              "(139870913043568, 139870913043568)"
            ]
          },
          "metadata": {
            "tags": []
          },
          "execution_count": 62
        }
      ]
    },
    {
      "cell_type": "code",
      "metadata": {
        "colab": {
          "base_uri": "https://localhost:8080/"
        },
        "id": "cme8L_zK3BHl",
        "outputId": "bb9e8fd4-10ad-47fe-c2cf-0a9d99b3ece0"
      },
      "source": [
        "#주소가 변경되었을뿐\n",
        "a='def'\n",
        "id('def'),id(a)"
      ],
      "execution_count": 63,
      "outputs": [
        {
          "output_type": "execute_result",
          "data": {
            "text/plain": [
              "(139870912188144, 139870912188144)"
            ]
          },
          "metadata": {
            "tags": []
          },
          "execution_count": 63
        }
      ]
    },
    {
      "cell_type": "code",
      "metadata": {
        "colab": {
          "base_uri": "https://localhost:8080/"
        },
        "id": "tGHgKWvv3b7d",
        "outputId": "c9f22a35-d5e3-458f-c458-26d740eb1ee6"
      },
      "source": [
        "10\n",
        "a=10\n",
        "b=a\n",
        "id(10),id(a),id(b)"
      ],
      "execution_count": 64,
      "outputs": [
        {
          "output_type": "execute_result",
          "data": {
            "text/plain": [
              "(94855199152928, 94855199152928, 94855199152928)"
            ]
          },
          "metadata": {
            "tags": []
          },
          "execution_count": 64
        }
      ]
    },
    {
      "cell_type": "code",
      "metadata": {
        "colab": {
          "base_uri": "https://localhost:8080/"
        },
        "id": "_-skwhNG7Zir",
        "outputId": "19ee10bc-a25b-4b3d-8d86-3e7082987ae8"
      },
      "source": [
        "a=[1,2,3,4,5]\n",
        "b=a\n",
        "b"
      ],
      "execution_count": 65,
      "outputs": [
        {
          "output_type": "execute_result",
          "data": {
            "text/plain": [
              "[1, 2, 3, 4, 5]"
            ]
          },
          "metadata": {
            "tags": []
          },
          "execution_count": 65
        }
      ]
    },
    {
      "cell_type": "code",
      "metadata": {
        "colab": {
          "base_uri": "https://localhost:8080/"
        },
        "id": "2mlWBdPy7gWe",
        "outputId": "e04a6a94-1f48-4c7b-e9c6-f8763950b8fa"
      },
      "source": [
        "#b가 바뀐 것은 list가 가변 객체이기에\n",
        "a[2]=4\n",
        "a,b"
      ],
      "execution_count": 66,
      "outputs": [
        {
          "output_type": "execute_result",
          "data": {
            "text/plain": [
              "([1, 2, 4, 4, 5], [1, 2, 4, 4, 5])"
            ]
          },
          "metadata": {
            "tags": []
          },
          "execution_count": 66
        }
      ]
    },
    {
      "cell_type": "code",
      "metadata": {
        "colab": {
          "base_uri": "https://localhost:8080/"
        },
        "id": "umQLpZ1h76Ic",
        "outputId": "46b3e494-488e-4a9b-e82d-8c34afba253c"
      },
      "source": [
        "a=10\n",
        "b=a\n",
        "id(a),id(b)"
      ],
      "execution_count": 67,
      "outputs": [
        {
          "output_type": "execute_result",
          "data": {
            "text/plain": [
              "(94855199152928, 94855199152928)"
            ]
          },
          "metadata": {
            "tags": []
          },
          "execution_count": 67
        }
      ]
    },
    {
      "cell_type": "code",
      "metadata": {
        "colab": {
          "base_uri": "https://localhost:8080/"
        },
        "id": "zNnIwEfY7qhV",
        "outputId": "6bf86839-7c43-4f66-ee41-ea510575301a"
      },
      "source": [
        "#더 이상 b변수는 a변수를 참조하지 않음\n",
        "b=7\n",
        "a,id(a),id(b)"
      ],
      "execution_count": 68,
      "outputs": [
        {
          "output_type": "execute_result",
          "data": {
            "text/plain": [
              "(10, 94855199152928, 94855199152832)"
            ]
          },
          "metadata": {
            "tags": []
          },
          "execution_count": 68
        }
      ]
    },
    {
      "cell_type": "code",
      "metadata": {
        "colab": {
          "base_uri": "https://localhost:8080/"
        },
        "id": "ylfxBpIq8lLG",
        "outputId": "0a487fe8-dbfb-4d82-df5c-6a18390a8820"
      },
      "source": [
        "a=[1,2,3]\n",
        "b=a\n",
        "b[2]=5\n",
        "a"
      ],
      "execution_count": 69,
      "outputs": [
        {
          "output_type": "execute_result",
          "data": {
            "text/plain": [
              "[1, 2, 5]"
            ]
          },
          "metadata": {
            "tags": []
          },
          "execution_count": 69
        }
      ]
    },
    {
      "cell_type": "code",
      "metadata": {
        "colab": {
          "base_uri": "https://localhost:8080/"
        },
        "id": "qgf4TKVi86yW",
        "outputId": "629ed479-dcb2-41f0-cf07-6338919ee4ae"
      },
      "source": [
        "#==:값을 비교, is:id()값을 비교\n",
        "#a를 list로 한 번 더 묶으면 별도의 객체로 복사\n",
        "a=[1,2,3]\n",
        "a==a, a==list(a),a is a, a is list(a)"
      ],
      "execution_count": 70,
      "outputs": [
        {
          "output_type": "execute_result",
          "data": {
            "text/plain": [
              "(True, True, True, False)"
            ]
          },
          "metadata": {
            "tags": []
          },
          "execution_count": 70
        }
      ]
    },
    {
      "cell_type": "code",
      "metadata": {
        "colab": {
          "base_uri": "https://localhost:8080/"
        },
        "id": "mOyekh0m-A0h",
        "outputId": "e42309c6-a4da-41ad-86ff-608ac97c8b52"
      },
      "source": [
        "import copy\n",
        "a=[1,2,3]\n",
        "a==copy.deepcopy(a),a is copy.deepcopy(a)"
      ],
      "execution_count": 71,
      "outputs": [
        {
          "output_type": "execute_result",
          "data": {
            "text/plain": [
              "(True, False)"
            ]
          },
          "metadata": {
            "tags": []
          },
          "execution_count": 71
        }
      ]
    }
  ]
}