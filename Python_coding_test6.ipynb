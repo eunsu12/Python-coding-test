{
  "nbformat": 4,
  "nbformat_minor": 0,
  "metadata": {
    "colab": {
      "name": "Python coding test6.ipynb",
      "provenance": [],
      "authorship_tag": "ABX9TyMSZAb1gr+eaDWFOLbvyvT+",
      "include_colab_link": true
    },
    "kernelspec": {
      "name": "python3",
      "display_name": "Python 3"
    },
    "language_info": {
      "name": "python"
    }
  },
  "cells": [
    {
      "cell_type": "markdown",
      "metadata": {
        "id": "view-in-github",
        "colab_type": "text"
      },
      "source": [
        "<a href=\"https://colab.research.google.com/github/eunsu12/Python-coding-test/blob/main/Python_coding_test6.ipynb\" target=\"_parent\"><img src=\"https://colab.research.google.com/assets/colab-badge.svg\" alt=\"Open In Colab\"/></a>"
      ]
    },
    {
      "cell_type": "markdown",
      "metadata": {
        "id": "XM57ejL1jdBn"
      },
      "source": [
        "## 23) 큐를 이용한 스택 구현\n",
        "### 큐에서 맨 앞 요소를 끄집어낼 때 스택처럼 가장 먼저 삽입한 요소가 나옴\n"
      ]
    },
    {
      "cell_type": "code",
      "metadata": {
        "id": "eQ326iwYiuXA"
      },
      "source": [
        "import collections\n",
        "\n",
        "\n",
        "class MyStack:\n",
        "    def __init__(self):\n",
        "        self.q = collections.deque()\n",
        "\n",
        "    def push(self, x):\n",
        "        self.q.append(x)\n",
        "        # 요소 삽입 후 맨 앞에 두는 상태로 재정렬\n",
        "        for _ in range(len(self.q) - 1):\n",
        "            self.q.append(self.q.popleft())\n",
        "\n",
        "    def pop(self):\n",
        "        return self.q.popleft()\n",
        "\n",
        "    def top(self):\n",
        "        return self.q[0]\n",
        "\n",
        "    def empty(self):\n",
        "        return len(self.q) == 0"
      ],
      "execution_count": 1,
      "outputs": []
    },
    {
      "cell_type": "markdown",
      "metadata": {
        "id": "swdAVxl9j0BP"
      },
      "source": [
        "## 24) 스택을 이용한 큐 구현\n",
        "### pop을 할 때 peek을 호출"
      ]
    },
    {
      "cell_type": "code",
      "metadata": {
        "id": "Q2tKkkEwmqYb"
      },
      "source": [
        "class MyQueue:\n",
        "    def __init__(self):\n",
        "        self.input = []\n",
        "        self.output = []\n",
        "\n",
        "    def push(self, x):\n",
        "        self.input.append(x)\n",
        "\n",
        "    def pop(self):\n",
        "        self.peek()\n",
        "        return self.output.pop()\n",
        "\n",
        "    def peek(self):\n",
        "        # output이 없으면 모두 재입력\n",
        "        if not self.output:\n",
        "            while self.input:\n",
        "                self.output.append(self.input.pop())\n",
        "        return self.output[-1]\n",
        "\n",
        "    def empty(self):\n",
        "        return self.input == [] and self.output == []"
      ],
      "execution_count": 2,
      "outputs": []
    },
    {
      "cell_type": "markdown",
      "metadata": {
        "id": "XtxQW8emm48H"
      },
      "source": [
        "### 데크: 양쪽 끝을 모두 추출할 수 있는 큐를 일반화 한 것\n",
        "### -> collections 모듈에서 deque라는 이름으로 지원\n"
      ]
    },
    {
      "cell_type": "markdown",
      "metadata": {
        "id": "RaNV1am5j0LJ"
      },
      "source": [
        "## 27) k개 정렬 리스트 병합\n",
        "### k개 정렬된 리스트를 1개의 정렬된 리스트로 병합\n"
      ]
    },
    {
      "cell_type": "code",
      "metadata": {
        "id": "D541YryhoPQz"
      },
      "source": [
        "import heapq\n",
        "from typing import List\n",
        "\n",
        "\n",
        "# Definition for singly-linked list.\n",
        "class ListNode:\n",
        "    def __init__(self, x):\n",
        "        self.val = x\n",
        "        self.next = None\n",
        "\n",
        "\n",
        "class Solution:\n",
        "    def mergeKLists(self, lists: List[ListNode]) -> ListNode:\n",
        "        root = result = ListNode(None)\n",
        "        heap = []\n",
        "\n",
        "        # 각 연결 리스트의 루트를 힙에 저장\n",
        "        for i in range(len(lists)):\n",
        "            if lists[i]:\n",
        "                heapq.heappush(heap, (lists[i].val, i, lists[i]))\n",
        "\n",
        "        # 힙 추출 이후 다음 노드는 다시 저장\n",
        "        while heap:\n",
        "            node = heapq.heappop(heap)\n",
        "            idx = node[1]\n",
        "            result.next = node[2]\n",
        "\n",
        "            result = result.next\n",
        "            if result.next:\n",
        "                heapq.heappush(heap, (result.next.val, idx, result.next))\n",
        "\n",
        "        return root.next"
      ],
      "execution_count": 3,
      "outputs": []
    }
  ]
}