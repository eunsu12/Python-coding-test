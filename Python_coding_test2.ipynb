{
  "nbformat": 4,
  "nbformat_minor": 0,
  "metadata": {
    "colab": {
      "name": "Python coding test2.ipynb",
      "provenance": [],
      "authorship_tag": "ABX9TyNwum/eta/kiEJDmLXugO4E",
      "include_colab_link": true
    },
    "kernelspec": {
      "name": "python3",
      "display_name": "Python 3"
    },
    "language_info": {
      "name": "python"
    }
  },
  "cells": [
    {
      "cell_type": "markdown",
      "metadata": {
        "id": "view-in-github",
        "colab_type": "text"
      },
      "source": [
        "<a href=\"https://colab.research.google.com/github/eunsu12/Python-coding-test/blob/main/Python_coding_test2.ipynb\" target=\"_parent\"><img src=\"https://colab.research.google.com/assets/colab-badge.svg\" alt=\"Open In Colab\"/></a>"
      ]
    },
    {
      "cell_type": "markdown",
      "metadata": {
        "id": "VxEZowr4xPjr"
      },
      "source": [
        "# **5장 리스트, 딕셔너리** \n",
        "### 리스트의 활용 방법\n",
        "### a = list( ) or a = [ ]"
      ]
    },
    {
      "cell_type": "code",
      "metadata": {
        "colab": {
          "base_uri": "https://localhost:8080/"
        },
        "id": "-rXazYPzxFlU",
        "outputId": "eb401197-151d-40b7-b687-2bf889e3e504"
      },
      "source": [
        "a= [1,2,3]\n",
        "print(a)\n",
        "a.append(4)\n",
        "print(a)"
      ],
      "execution_count": 1,
      "outputs": [
        {
          "output_type": "stream",
          "text": [
            "[1, 2, 3]\n",
            "[1, 2, 3, 4]\n"
          ],
          "name": "stdout"
        }
      ]
    },
    {
      "cell_type": "code",
      "metadata": {
        "colab": {
          "base_uri": "https://localhost:8080/"
        },
        "id": "oTVBT5TiyVCQ",
        "outputId": "0a57b81e-cf48-40fa-e30a-69b9e1eab4fc"
      },
      "source": [
        "#인덱스는 0부터 시작\n",
        "a.insert(3,5)\n",
        "a"
      ],
      "execution_count": 2,
      "outputs": [
        {
          "output_type": "execute_result",
          "data": {
            "text/plain": [
              "[1, 2, 3, 5, 4]"
            ]
          },
          "metadata": {
            "tags": []
          },
          "execution_count": 2
        }
      ]
    },
    {
      "cell_type": "code",
      "metadata": {
        "colab": {
          "base_uri": "https://localhost:8080/"
        },
        "id": "aBpAuafXyVS9",
        "outputId": "aeb405ae-b997-4be5-d7e0-ae0d8f4f1da4"
      },
      "source": [
        "a.append('안녕')\n",
        "a.append(True)\n",
        "a"
      ],
      "execution_count": 3,
      "outputs": [
        {
          "output_type": "execute_result",
          "data": {
            "text/plain": [
              "[1, 2, 3, 5, 4, '안녕', True]"
            ]
          },
          "metadata": {
            "tags": []
          },
          "execution_count": 3
        }
      ]
    },
    {
      "cell_type": "code",
      "metadata": {
        "id": "PW1Ql5CIy4_R",
        "colab": {
          "base_uri": "https://localhost:8080/"
        },
        "outputId": "06f93336-887e-49f5-e79f-cb6d2416d3e7"
      },
      "source": [
        "a[3]"
      ],
      "execution_count": 4,
      "outputs": [
        {
          "output_type": "execute_result",
          "data": {
            "text/plain": [
              "5"
            ]
          },
          "metadata": {
            "tags": []
          },
          "execution_count": 4
        }
      ]
    },
    {
      "cell_type": "code",
      "metadata": {
        "colab": {
          "base_uri": "https://localhost:8080/"
        },
        "id": "TlibpHOJHYLB",
        "outputId": "5ecd2733-34fc-4670-eaee-9fe122b54193"
      },
      "source": [
        "#슬라이싱 기능\n",
        "a[1:3], a[:3],a[4:]"
      ],
      "execution_count": 5,
      "outputs": [
        {
          "output_type": "execute_result",
          "data": {
            "text/plain": [
              "([2, 3], [1, 2, 3], [4, '안녕', True])"
            ]
          },
          "metadata": {
            "tags": []
          },
          "execution_count": 5
        }
      ]
    },
    {
      "cell_type": "code",
      "metadata": {
        "colab": {
          "base_uri": "https://localhost:8080/"
        },
        "id": "hhrU7Vc5HYX1",
        "outputId": "2e300b4b-a8da-466d-ec07-d45857148a48"
      },
      "source": [
        "#인덱스 1,2,3의 값\n",
        "print(a[1:4])\n",
        "#인덱스 1,3의 값\n",
        "#세 번째 파라미터 단계의 의미\n",
        "print(a[1:4:2])"
      ],
      "execution_count": 6,
      "outputs": [
        {
          "output_type": "stream",
          "text": [
            "[2, 3, 5]\n",
            "[2, 5]\n"
          ],
          "name": "stdout"
        }
      ]
    },
    {
      "cell_type": "code",
      "metadata": {
        "id": "MZ-QByaSIaG_"
      },
      "source": [
        "#존재하지 않는 인덱스를 조회 -> IndexError\n",
        "#a[9]"
      ],
      "execution_count": 7,
      "outputs": []
    },
    {
      "cell_type": "code",
      "metadata": {
        "colab": {
          "base_uri": "https://localhost:8080/"
        },
        "id": "YX_de_i1IaVK",
        "outputId": "59f47a8c-19d6-41ef-ae2a-6de3f6c50327"
      },
      "source": [
        "try:\n",
        "  print(a[9])\n",
        "except IndexError:\n",
        "  print('존재하지 않는 인덱스')"
      ],
      "execution_count": 8,
      "outputs": [
        {
          "output_type": "stream",
          "text": [
            "존재하지 않는 인덱스\n"
          ],
          "name": "stdout"
        }
      ]
    },
    {
      "cell_type": "markdown",
      "metadata": {
        "id": "p2V0PPhKJPkU"
      },
      "source": [
        "### 요소를 삭제하는 방법\n",
        "\n",
        "* 인덱스로 삭제하기\n",
        "* 값으로 삭제하기\n",
        "\n"
      ]
    },
    {
      "cell_type": "code",
      "metadata": {
        "colab": {
          "base_uri": "https://localhost:8080/"
        },
        "id": "3dKSNlIUKm79",
        "outputId": "8ff39acd-8c78-47df-f77b-3d39c7bded9b"
      },
      "source": [
        "# a=[1, 2, 3, 5, 4, '안녕', True]\n",
        "del a[1]\n",
        "a"
      ],
      "execution_count": 9,
      "outputs": [
        {
          "output_type": "execute_result",
          "data": {
            "text/plain": [
              "[1, 3, 5, 4, '안녕', True]"
            ]
          },
          "metadata": {
            "tags": []
          },
          "execution_count": 9
        }
      ]
    },
    {
      "cell_type": "code",
      "metadata": {
        "colab": {
          "base_uri": "https://localhost:8080/"
        },
        "id": "RvnZPxxUJeom",
        "outputId": "efc0a8f6-8534-4586-d25f-7f570dcc7c38"
      },
      "source": [
        "print(a)\n",
        "a.remove(3)\n",
        "print(a)"
      ],
      "execution_count": 10,
      "outputs": [
        {
          "output_type": "stream",
          "text": [
            "[1, 3, 5, 4, '안녕', True]\n",
            "[1, 5, 4, '안녕', True]\n"
          ],
          "name": "stdout"
        }
      ]
    },
    {
      "cell_type": "code",
      "metadata": {
        "colab": {
          "base_uri": "https://localhost:8080/"
        },
        "id": "xyytfadqLJPE",
        "outputId": "a0fdb7f7-5c46-4d66-dfb4-eb65c13ccfac"
      },
      "source": [
        "print(a)\n",
        "a.pop(3)\n",
        "print(a)"
      ],
      "execution_count": 11,
      "outputs": [
        {
          "output_type": "stream",
          "text": [
            "[1, 5, 4, '안녕', True]\n",
            "[1, 5, 4, True]\n"
          ],
          "name": "stdout"
        }
      ]
    },
    {
      "cell_type": "code",
      "metadata": {
        "colab": {
          "base_uri": "https://localhost:8080/"
        },
        "id": "iAOcBSSeLxU2",
        "outputId": "ce2d00f6-bb8a-43a4-dd85-6ee1133ea9a4"
      },
      "source": [
        "a=[1,2,3]\n",
        "a"
      ],
      "execution_count": 12,
      "outputs": [
        {
          "output_type": "execute_result",
          "data": {
            "text/plain": [
              "[1, 2, 3]"
            ]
          },
          "metadata": {
            "tags": []
          },
          "execution_count": 12
        }
      ]
    },
    {
      "cell_type": "code",
      "metadata": {
        "colab": {
          "base_uri": "https://localhost:8080/"
        },
        "id": "4C1LdDMRMkkW",
        "outputId": "6bae9dde-610d-4e4c-c81c-c38094ccfdfb"
      },
      "source": [
        "a=[1,'안녕',True]\n",
        "a"
      ],
      "execution_count": 13,
      "outputs": [
        {
          "output_type": "execute_result",
          "data": {
            "text/plain": [
              "[1, '안녕', True]"
            ]
          },
          "metadata": {
            "tags": []
          },
          "execution_count": 13
        }
      ]
    },
    {
      "cell_type": "markdown",
      "metadata": {
        "id": "qbVNngOvNyB2"
      },
      "source": [
        "### 딕셔너리의 활용 방법\n",
        "### a = dict( ) or  a= { }"
      ]
    },
    {
      "cell_type": "code",
      "metadata": {
        "colab": {
          "base_uri": "https://localhost:8080/"
        },
        "id": "SXe2kztvMuGo",
        "outputId": "1ac45453-e3e7-4ce0-e2a4-bfa593196d12"
      },
      "source": [
        "a={'key1':'value1','key2':'value2'}\n",
        "print(a)\n",
        "a['key3']='value3'\n",
        "print(a)"
      ],
      "execution_count": 14,
      "outputs": [
        {
          "output_type": "stream",
          "text": [
            "{'key1': 'value1', 'key2': 'value2'}\n",
            "{'key1': 'value1', 'key2': 'value2', 'key3': 'value3'}\n"
          ],
          "name": "stdout"
        }
      ]
    },
    {
      "cell_type": "code",
      "metadata": {
        "colab": {
          "base_uri": "https://localhost:8080/",
          "height": 34
        },
        "id": "bveoRUYvMuUH",
        "outputId": "ace13edc-2e61-4e0b-dbd6-3e1915dec93d"
      },
      "source": [
        "a['key1']"
      ],
      "execution_count": 15,
      "outputs": [
        {
          "output_type": "execute_result",
          "data": {
            "application/vnd.google.colaboratory.intrinsic+json": {
              "type": "string"
            },
            "text/plain": [
              "'value1'"
            ]
          },
          "metadata": {
            "tags": []
          },
          "execution_count": 15
        }
      ]
    },
    {
      "cell_type": "code",
      "metadata": {
        "id": "uN6011zHO3Qi"
      },
      "source": [
        "#존재하지 않는 키 조회 -> KeyError\n",
        "#a['key4']"
      ],
      "execution_count": 16,
      "outputs": []
    },
    {
      "cell_type": "code",
      "metadata": {
        "colab": {
          "base_uri": "https://localhost:8080/"
        },
        "id": "Xo-OuVAlPFlt",
        "outputId": "297f43ec-a1fd-4215-af4a-91fd1bfbfe3d"
      },
      "source": [
        "try:\n",
        "  print(a['key4'])\n",
        "except KeyError:\n",
        "  print('존재하지 않는 키')"
      ],
      "execution_count": 17,
      "outputs": [
        {
          "output_type": "stream",
          "text": [
            "존재하지 않는 키\n"
          ],
          "name": "stdout"
        }
      ]
    },
    {
      "cell_type": "code",
      "metadata": {
        "colab": {
          "base_uri": "https://localhost:8080/",
          "height": 168
        },
        "id": "QOxW_Cy-PQmL",
        "outputId": "024c51da-3124-4bf7-8d0b-ea0d37ca0843"
      },
      "source": [
        "del a['key4']"
      ],
      "execution_count": 18,
      "outputs": [
        {
          "output_type": "error",
          "ename": "KeyError",
          "evalue": "ignored",
          "traceback": [
            "\u001b[0;31m---------------------------------------------------------------------------\u001b[0m",
            "\u001b[0;31mKeyError\u001b[0m                                  Traceback (most recent call last)",
            "\u001b[0;32m<ipython-input-18-11c368e79f18>\u001b[0m in \u001b[0;36m<module>\u001b[0;34m()\u001b[0m\n\u001b[0;32m----> 1\u001b[0;31m \u001b[0;32mdel\u001b[0m \u001b[0ma\u001b[0m\u001b[0;34m[\u001b[0m\u001b[0;34m'key4'\u001b[0m\u001b[0;34m]\u001b[0m\u001b[0;34m\u001b[0m\u001b[0;34m\u001b[0m\u001b[0m\n\u001b[0m",
            "\u001b[0;31mKeyError\u001b[0m: 'key4'"
          ]
        }
      ]
    },
    {
      "cell_type": "code",
      "metadata": {
        "colab": {
          "base_uri": "https://localhost:8080/"
        },
        "id": "rp-VmME2Plwq",
        "outputId": "2c3e0af7-5604-47b9-b917-d9a88137c696"
      },
      "source": [
        "'key4'in a"
      ],
      "execution_count": 19,
      "outputs": [
        {
          "output_type": "execute_result",
          "data": {
            "text/plain": [
              "False"
            ]
          },
          "metadata": {
            "tags": []
          },
          "execution_count": 19
        }
      ]
    },
    {
      "cell_type": "code",
      "metadata": {
        "colab": {
          "base_uri": "https://localhost:8080/"
        },
        "id": "Afu4o_DNPweR",
        "outputId": "59b06de4-1064-4823-e9a7-499682c43436"
      },
      "source": [
        "if 'key4'in a:\n",
        "  print('존재하는 키')\n",
        "else:\n",
        "  print('존재하지 않는 키')"
      ],
      "execution_count": 20,
      "outputs": [
        {
          "output_type": "stream",
          "text": [
            "존재하지 않는 키\n"
          ],
          "name": "stdout"
        }
      ]
    },
    {
      "cell_type": "code",
      "metadata": {
        "colab": {
          "base_uri": "https://localhost:8080/"
        },
        "id": "ezICTIuzP03L",
        "outputId": "3bbfb0a0-1ca9-4a41-d9e0-fbc494fc65ee"
      },
      "source": [
        "for k,v in a.items():\n",
        "  print(k,v)"
      ],
      "execution_count": 21,
      "outputs": [
        {
          "output_type": "stream",
          "text": [
            "key1 value1\n",
            "key2 value2\n",
            "key3 value3\n"
          ],
          "name": "stdout"
        }
      ]
    },
    {
      "cell_type": "code",
      "metadata": {
        "colab": {
          "base_uri": "https://localhost:8080/"
        },
        "id": "5pIoFOQMT5bv",
        "outputId": "962ce496-7b2c-4d86-b0da-6b1434672ea0"
      },
      "source": [
        "del a['key1']\n",
        "a"
      ],
      "execution_count": 22,
      "outputs": [
        {
          "output_type": "execute_result",
          "data": {
            "text/plain": [
              "{'key2': 'value2', 'key3': 'value3'}"
            ]
          },
          "metadata": {
            "tags": []
          },
          "execution_count": 22
        }
      ]
    },
    {
      "cell_type": "code",
      "metadata": {
        "colab": {
          "base_uri": "https://localhost:8080/"
        },
        "id": "kVvFM1I9UFuG",
        "outputId": "b993ef0b-82e8-4b33-a92d-9e1bf4801d18"
      },
      "source": [
        "#디폴트 값을 기준으로 해당 키에 대한 딕셔너리 아이템을 생성해줌\n",
        "import collections\n",
        "a= collections.defaultdict(int)\n",
        "a['A']=5\n",
        "a['B']=4\n",
        "a"
      ],
      "execution_count": 23,
      "outputs": [
        {
          "output_type": "execute_result",
          "data": {
            "text/plain": [
              "defaultdict(int, {'A': 5, 'B': 4})"
            ]
          },
          "metadata": {
            "tags": []
          },
          "execution_count": 23
        }
      ]
    },
    {
      "cell_type": "code",
      "metadata": {
        "colab": {
          "base_uri": "https://localhost:8080/"
        },
        "id": "7IbhAanCUF3I",
        "outputId": "68179f01-4832-49e9-9380-46170532a707"
      },
      "source": [
        "#defaultdict에서 에러 없이 디폴트인 0기준으로 +1\n",
        "a['C'] += 1\n",
        "a"
      ],
      "execution_count": 24,
      "outputs": [
        {
          "output_type": "execute_result",
          "data": {
            "text/plain": [
              "defaultdict(int, {'A': 5, 'B': 4, 'C': 1})"
            ]
          },
          "metadata": {
            "tags": []
          },
          "execution_count": 24
        }
      ]
    },
    {
      "cell_type": "code",
      "metadata": {
        "colab": {
          "base_uri": "https://localhost:8080/"
        },
        "id": "JJiJ1ncCVK-r",
        "outputId": "c9a78f28-4705-4b0b-858b-7f63a203fbc6"
      },
      "source": [
        "#아이템에 대한 개수를 계산해 딕셔너리로 리턴\n",
        "a=[1,2,3,4,5,5,5,6,6]\n",
        "b=collections.Counter(a)\n",
        "b"
      ],
      "execution_count": 25,
      "outputs": [
        {
          "output_type": "execute_result",
          "data": {
            "text/plain": [
              "Counter({1: 1, 2: 1, 3: 1, 4: 1, 5: 3, 6: 2})"
            ]
          },
          "metadata": {
            "tags": []
          },
          "execution_count": 25
        }
      ]
    },
    {
      "cell_type": "code",
      "metadata": {
        "colab": {
          "base_uri": "https://localhost:8080/"
        },
        "id": "lIEoURR6V3vY",
        "outputId": "ec409651-5aca-484b-92cd-a2fa7e6be876"
      },
      "source": [
        "type(b)"
      ],
      "execution_count": 26,
      "outputs": [
        {
          "output_type": "execute_result",
          "data": {
            "text/plain": [
              "collections.Counter"
            ]
          },
          "metadata": {
            "tags": []
          },
          "execution_count": 26
        }
      ]
    },
    {
      "cell_type": "code",
      "metadata": {
        "colab": {
          "base_uri": "https://localhost:8080/"
        },
        "id": "nUz2HedkV3xk",
        "outputId": "7541518c-85c1-48db-8900-fe3bf9803dc9"
      },
      "source": [
        "#빈도 수가 높은 요소 2개\n",
        "b.most_common(2)"
      ],
      "execution_count": 27,
      "outputs": [
        {
          "output_type": "execute_result",
          "data": {
            "text/plain": [
              "[(5, 3), (6, 2)]"
            ]
          },
          "metadata": {
            "tags": []
          },
          "execution_count": 27
        }
      ]
    },
    {
      "cell_type": "code",
      "metadata": {
        "colab": {
          "base_uri": "https://localhost:8080/"
        },
        "id": "JAHw_K2SWL4x",
        "outputId": "d8474179-8ed2-4e17-bdcb-ad2319746a76"
      },
      "source": [
        "#입력 그대로 순서가 유지\n",
        "collections.OrderedDict({'banana':3,'apple':4,'pear':1,'orange':2})"
      ],
      "execution_count": 28,
      "outputs": [
        {
          "output_type": "execute_result",
          "data": {
            "text/plain": [
              "OrderedDict([('banana', 3), ('apple', 4), ('pear', 1), ('orange', 2)])"
            ]
          },
          "metadata": {
            "tags": []
          },
          "execution_count": 28
        }
      ]
    },
    {
      "cell_type": "code",
      "metadata": {
        "colab": {
          "base_uri": "https://localhost:8080/"
        },
        "id": "zSlhPoomWsh3",
        "outputId": "61c81215-0e27-4f05-d62d-57ab6f196388"
      },
      "source": [
        "#이름으로 타입 선언\n",
        "a=list()\n",
        "type(a)"
      ],
      "execution_count": 29,
      "outputs": [
        {
          "output_type": "execute_result",
          "data": {
            "text/plain": [
              "list"
            ]
          },
          "metadata": {
            "tags": []
          },
          "execution_count": 29
        }
      ]
    },
    {
      "cell_type": "code",
      "metadata": {
        "colab": {
          "base_uri": "https://localhost:8080/"
        },
        "id": "jILuym2gXDFF",
        "outputId": "94b59670-b0ed-4ba8-e4fb-01debf0fe952"
      },
      "source": [
        "#기호로 타입 선언\n",
        "type([]),type(()),type({}),type({1})"
      ],
      "execution_count": 30,
      "outputs": [
        {
          "output_type": "execute_result",
          "data": {
            "text/plain": [
              "(list, tuple, dict, set)"
            ]
          },
          "metadata": {
            "tags": []
          },
          "execution_count": 30
        }
      ]
    },
    {
      "cell_type": "markdown",
      "metadata": {
        "id": "Rpu_FWp4XhUP"
      },
      "source": [
        "#**6장 문자열 조작**\n",
        "### 문자열을 변경하거나 분리"
      ]
    },
    {
      "cell_type": "markdown",
      "metadata": {
        "id": "QufAiLy5Y1Ng"
      },
      "source": [
        "### *01)유효한 팰린드롬* \n",
        "#### 팰린드롬: 앞뒤가 똑같은 단어나 문장 -> 회문"
      ]
    },
    {
      "cell_type": "code",
      "metadata": {
        "id": "3Kip5J3DXfOq"
      },
      "source": [
        "#생각 실패\n",
        "#a= list(input('입력'))\n",
        "#for index in enumerate(a):\n",
        "  #if a[0]==a[]"
      ],
      "execution_count": 31,
      "outputs": []
    },
    {
      "cell_type": "code",
      "metadata": {
        "id": "a8a-mrSTXfYx"
      },
      "source": [
        "#대소문자 여부를 구분하지 않으며 영문자 숫자만을 대상\n",
        "#isalnum(): 영문자, 숫자 여부 판별\n",
        "#lower()->대소문자 구분 하지 않으므로 모두 소문자로 변환\n",
        "def isPalindrome(s: str) -> bool:\n",
        "  strs=[]\n",
        "  for char in s:\n",
        "    if char.isalnum():\n",
        "      strs.append(char.lower())\n",
        "   \n",
        "  while len(strs)>1:\n",
        "    if strs.pop(0) != strs.pop():\n",
        "      return False\n",
        "\n",
        "  return True"
      ],
      "execution_count": 32,
      "outputs": []
    },
    {
      "cell_type": "code",
      "metadata": {
        "colab": {
          "base_uri": "https://localhost:8080/"
        },
        "id": "nG8ludwrfbj7",
        "outputId": "03cb451a-0f82-42f4-c0a2-ac4b9f2b69d4"
      },
      "source": [
        "isPalindrome(\"race a car\")"
      ],
      "execution_count": 33,
      "outputs": [
        {
          "output_type": "execute_result",
          "data": {
            "text/plain": [
              "False"
            ]
          },
          "metadata": {
            "tags": []
          },
          "execution_count": 33
        }
      ]
    },
    {
      "cell_type": "code",
      "metadata": {
        "id": "a4AINgx1hrpt"
      },
      "source": [
        "#데크를 명시적으로 선언하면 속도를 높일 수 있음\n",
        "def isPalindrome(s: str) -> bool:\n",
        "  strs:Deque = collections.deque()\n",
        "\n",
        "  for char in s:\n",
        "    if char.isalnum():\n",
        "      strs.append(char.lower())\n",
        "   \n",
        "  while len(strs)>1:\n",
        "    if strs.popleft() != strs.pop():\n",
        "      return False\n",
        "  \n",
        "  return True"
      ],
      "execution_count": 34,
      "outputs": []
    },
    {
      "cell_type": "code",
      "metadata": {
        "colab": {
          "base_uri": "https://localhost:8080/"
        },
        "id": "jX9DfkEfimKk",
        "outputId": "eb057778-2a45-4d92-87b2-0444603dbe27"
      },
      "source": [
        "isPalindrome(\"race a car\")"
      ],
      "execution_count": 35,
      "outputs": [
        {
          "output_type": "execute_result",
          "data": {
            "text/plain": [
              "False"
            ]
          },
          "metadata": {
            "tags": []
          },
          "execution_count": 35
        }
      ]
    },
    {
      "cell_type": "code",
      "metadata": {
        "id": "GO6OalvWi5tq"
      },
      "source": [
        "#앞의 것에 비해 2배 더 속도를 높일 수 있음\n",
        "#슬라이싱 사용\n",
        "import re \n",
        "def isPalindrome(s: str) -> bool:\n",
        "  s= s.lower()\n",
        "  #정규식으로 불필요한 문자 필터링\n",
        "  s= re.sub('[^a-z0-9]','',s)\n",
        "\n",
        "  return s == s[::-1]  #슬라이싱"
      ],
      "execution_count": 36,
      "outputs": []
    },
    {
      "cell_type": "code",
      "metadata": {
        "colab": {
          "base_uri": "https://localhost:8080/"
        },
        "id": "ngcTDN21i57J",
        "outputId": "81df35fa-3f6e-4495-9bfc-8a8febe8a229"
      },
      "source": [
        "isPalindrome(\"race a car\")"
      ],
      "execution_count": 37,
      "outputs": [
        {
          "output_type": "execute_result",
          "data": {
            "text/plain": [
              "False"
            ]
          },
          "metadata": {
            "tags": []
          },
          "execution_count": 37
        }
      ]
    },
    {
      "cell_type": "markdown",
      "metadata": {
        "id": "gnwYbSlLlkr2"
      },
      "source": [
        "#### 안녕하세요\n",
        "#### s[::1] == 안녕하세요, s[::-1] == 요세하녕안 -> 뒤집기\n",
        "#### s[::2] == 안하요 -> 2칸씩 앞으로 이동"
      ]
    },
    {
      "cell_type": "markdown",
      "metadata": {
        "id": "q5CrGcMMknsw"
      },
      "source": [
        "### *02)문자열 뒤집기*\n"
      ]
    },
    {
      "cell_type": "code",
      "metadata": {
        "id": "S5XRsdADkD8r"
      },
      "source": [
        "#내가 생각해낸 풀이\n",
        "#리트코드에선 오류\n",
        "#s[:]==s[::-1]\n",
        "def swap_list(l:list):\n",
        "  a=l[::-1]\n",
        "  print(a)"
      ],
      "execution_count": 38,
      "outputs": []
    },
    {
      "cell_type": "code",
      "metadata": {
        "colab": {
          "base_uri": "https://localhost:8080/"
        },
        "id": "2VdlvxfXyj7V",
        "outputId": "6690abf3-1982-40ed-b455-1d0cba16fe37"
      },
      "source": [
        "swap_list(['h','e','l','l','o'])"
      ],
      "execution_count": 39,
      "outputs": [
        {
          "output_type": "stream",
          "text": [
            "['o', 'l', 'l', 'e', 'h']\n"
          ],
          "name": "stdout"
        }
      ]
    },
    {
      "cell_type": "code",
      "metadata": {
        "colab": {
          "base_uri": "https://localhost:8080/"
        },
        "id": "Vbg0k8Nly1DJ",
        "outputId": "49d94520-582f-40dd-9f31-04eade5773c1"
      },
      "source": [
        "swap_list(['H','a','n','n','a','h'])"
      ],
      "execution_count": 40,
      "outputs": [
        {
          "output_type": "stream",
          "text": [
            "['h', 'a', 'n', 'n', 'a', 'H']\n"
          ],
          "name": "stdout"
        }
      ]
    },
    {
      "cell_type": "code",
      "metadata": {
        "id": "_tzqA3cizGBo"
      },
      "source": [
        "#투 포인터를 이용한 스왑\n",
        "from typing import List\n",
        "def reverseString(s:List[str])->None:\n",
        "  left, right = 0, len(s)-1\n",
        "  while left < right:\n",
        "    s[left],s[right]=s[right],s[left]\n",
        "    left += 1\n",
        "    right -= 1\n",
        "  print(s)"
      ],
      "execution_count": 41,
      "outputs": []
    },
    {
      "cell_type": "code",
      "metadata": {
        "colab": {
          "base_uri": "https://localhost:8080/"
        },
        "id": "Mhz7XN-61t4J",
        "outputId": "1556634c-ac68-4b43-83f0-b1898a95d854"
      },
      "source": [
        "reverseString(['H','a','n','n','a','h'])"
      ],
      "execution_count": 42,
      "outputs": [
        {
          "output_type": "stream",
          "text": [
            "['h', 'a', 'n', 'n', 'a', 'H']\n"
          ],
          "name": "stdout"
        }
      ]
    },
    {
      "cell_type": "code",
      "metadata": {
        "id": "76YtHyZ2zeM8"
      },
      "source": [
        "#파이썬다운 방식\n",
        "def reverseString(s:List[str])->None:\n",
        "  s.reverse()\n",
        "  print(s)"
      ],
      "execution_count": 43,
      "outputs": []
    },
    {
      "cell_type": "code",
      "metadata": {
        "colab": {
          "base_uri": "https://localhost:8080/"
        },
        "id": "Z2RYO8bD0LYL",
        "outputId": "b661407e-4f52-4bd1-d540-8692bce9db6d"
      },
      "source": [
        "reverseString(['H','a','n','n','a','h'])"
      ],
      "execution_count": 44,
      "outputs": [
        {
          "output_type": "stream",
          "text": [
            "['h', 'a', 'n', 'n', 'a', 'H']\n"
          ],
          "name": "stdout"
        }
      ]
    },
    {
      "cell_type": "markdown",
      "metadata": {
        "id": "JudFMzJp3g8Q"
      },
      "source": [
        "### *03)로그파일재정렬*"
      ]
    },
    {
      "cell_type": "code",
      "metadata": {
        "colab": {
          "base_uri": "https://localhost:8080/"
        },
        "id": "E-FsGbpF3rTw",
        "outputId": "ea96f72f-c60e-418d-f2c9-7e7243757635"
      },
      "source": [
        "a=[1,2,3]\n",
        "b=[4,5,6]\n",
        "a+b ,b+a"
      ],
      "execution_count": 45,
      "outputs": [
        {
          "output_type": "execute_result",
          "data": {
            "text/plain": [
              "([1, 2, 3, 4, 5, 6], [4, 5, 6, 1, 2, 3])"
            ]
          },
          "metadata": {
            "tags": []
          },
          "execution_count": 45
        }
      ]
    },
    {
      "cell_type": "code",
      "metadata": {
        "id": "4i5bd-Ts5KpN"
      },
      "source": [
        "def reorderLogFiles(logs:List[str])->List[str]:\n",
        "  letters, digits = [], []\n",
        "  for log in logs:\n",
        "    if log.split()[1].isdigit():\n",
        "      digits.append(log)\n",
        "    else:\n",
        "      letters.append(log)\n",
        "      \n",
        "  # 2개의 키를 람다 표현식으로 정렬\n",
        "  letters.sort(key=lambda x: (x.split()[1:],x.split()[0]))\n",
        "  return letters + digits"
      ],
      "execution_count": 46,
      "outputs": []
    },
    {
      "cell_type": "code",
      "metadata": {
        "colab": {
          "base_uri": "https://localhost:8080/"
        },
        "id": "qZvlEXaqMSF-",
        "outputId": "7c9474be-12e7-48a6-e470-4c95c0da904c"
      },
      "source": [
        "reorderLogFiles(['dig1 8 1 5 1', 'let1 art can','dig2 3 6','let2 own kit dig','let3 art zero'])"
      ],
      "execution_count": 47,
      "outputs": [
        {
          "output_type": "execute_result",
          "data": {
            "text/plain": [
              "['let1 art can',\n",
              " 'let3 art zero',\n",
              " 'let2 own kit dig',\n",
              " 'dig1 8 1 5 1',\n",
              " 'dig2 3 6']"
            ]
          },
          "metadata": {
            "tags": []
          },
          "execution_count": 47
        }
      ]
    },
    {
      "cell_type": "markdown",
      "metadata": {
        "id": "KXZbvQKPPXBr"
      },
      "source": [
        "#### 람다 표현식 -> 번호 순 정렬이 아닌 그 뒤의 문자 순 정렬\n",
        "#### 번호 순 정렬 -> sorted(s)\n"
      ]
    },
    {
      "cell_type": "code",
      "metadata": {
        "colab": {
          "base_uri": "https://localhost:8080/"
        },
        "id": "zdxbIFZIPU1t",
        "outputId": "8f6c93cd-7e6f-4966-a038-03acb35d6fab"
      },
      "source": [
        "#첫번째 방법\n",
        "s=['2 A','1 B','4 C','1 A']\n",
        "def func(x):\n",
        "  return x.split()[1],x.split()[0]\n",
        "s.sort(key=func)\n",
        "s"
      ],
      "execution_count": 48,
      "outputs": [
        {
          "output_type": "execute_result",
          "data": {
            "text/plain": [
              "['1 A', '2 A', '1 B', '4 C']"
            ]
          },
          "metadata": {
            "tags": []
          },
          "execution_count": 48
        }
      ]
    },
    {
      "cell_type": "code",
      "metadata": {
        "colab": {
          "base_uri": "https://localhost:8080/"
        },
        "id": "kBR5vKkdQfFE",
        "outputId": "5f68b6e1-102c-482f-b50d-7980a8768c03"
      },
      "source": [
        "s. sort(key=lambda x: (x.split()[1],x.split()[0]))\n",
        "s"
      ],
      "execution_count": 49,
      "outputs": [
        {
          "output_type": "execute_result",
          "data": {
            "text/plain": [
              "['1 A', '2 A', '1 B', '4 C']"
            ]
          },
          "metadata": {
            "tags": []
          },
          "execution_count": 49
        }
      ]
    },
    {
      "cell_type": "markdown",
      "metadata": {
        "id": "I3O5pFRoQxE7"
      },
      "source": [
        "###*04) 가장 흔한 단어*"
      ]
    },
    {
      "cell_type": "code",
      "metadata": {
        "id": "mAiVUG3AQvyi"
      },
      "source": [
        "#리스트 컴프리헨션, Counter 객체 사용\n",
        "import re\n",
        "import collections\n",
        "def mostCommonWord(paragraph:str,banned:List[str])-> str:\n",
        "  words= [word for word in re.sub(r'[^\\w]',' ',paragraph)\n",
        "      .lower().split()\n",
        "          if word not in banned]\n",
        "\n",
        "  counts = collections.Counter(words)\n",
        "  #가장 흔하게 등장하는 단어의 첫 번째 인덱스 리턴\n",
        "  return counts.most_common(1)[0][0]"
      ],
      "execution_count": 50,
      "outputs": []
    },
    {
      "cell_type": "code",
      "metadata": {
        "colab": {
          "base_uri": "https://localhost:8080/",
          "height": 34
        },
        "id": "BEvXWVIZRWAe",
        "outputId": "03db0bb5-205c-4801-dc6a-86704e90ff15"
      },
      "source": [
        "mostCommonWord('Bob hit a ball, the hit BALL flew far after it was hit.',['hit'])"
      ],
      "execution_count": 51,
      "outputs": [
        {
          "output_type": "execute_result",
          "data": {
            "application/vnd.google.colaboratory.intrinsic+json": {
              "type": "string"
            },
            "text/plain": [
              "'ball'"
            ]
          },
          "metadata": {
            "tags": []
          },
          "execution_count": 51
        }
      ]
    },
    {
      "cell_type": "markdown",
      "metadata": {
        "id": "mRucXWWPUnT7"
      },
      "source": [
        "### *05) 그룹 애너그램*\n",
        "#### 문자를 재배열하여 다른 뜻을 가진 단어로 바꾸는 것"
      ]
    },
    {
      "cell_type": "code",
      "metadata": {
        "id": "yoNpSLsaUaGo"
      },
      "source": [
        "def groupAnagrams(strs:List[str])-> List[List[str]]:\n",
        "  #존재하지 않는 키에러 발생 방지\n",
        "  anagrams = collections.defaultdict(list)\n",
        "\n",
        "  for word in strs:\n",
        "    #정렬하여 딕셔너리에 추가\n",
        "    anagrams[''.join(sorted(word))].append(word)\n",
        "  return anagrams.values()"
      ],
      "execution_count": 52,
      "outputs": []
    },
    {
      "cell_type": "markdown",
      "metadata": {
        "id": "VrIUKFvteAx7"
      },
      "source": [
        "####여러 가지 정렬 방법"
      ]
    },
    {
      "cell_type": "code",
      "metadata": {
        "colab": {
          "base_uri": "https://localhost:8080/"
        },
        "id": "NepRbRr_XWpl",
        "outputId": "e82c2225-da75-4ac0-94df-c3e2904fc7cc"
      },
      "source": [
        "a=[2,5,1,9,7]\n",
        "sorted(a)"
      ],
      "execution_count": 53,
      "outputs": [
        {
          "output_type": "execute_result",
          "data": {
            "text/plain": [
              "[1, 2, 5, 7, 9]"
            ]
          },
          "metadata": {
            "tags": []
          },
          "execution_count": 53
        }
      ]
    },
    {
      "cell_type": "code",
      "metadata": {
        "colab": {
          "base_uri": "https://localhost:8080/"
        },
        "id": "yECRPEZVeQCT",
        "outputId": "9b813f72-848a-4729-ee19-f4455ec47cfd"
      },
      "source": [
        "b='zbdaf'\n",
        "sorted(b)"
      ],
      "execution_count": 54,
      "outputs": [
        {
          "output_type": "execute_result",
          "data": {
            "text/plain": [
              "['a', 'b', 'd', 'f', 'z']"
            ]
          },
          "metadata": {
            "tags": []
          },
          "execution_count": 54
        }
      ]
    },
    {
      "cell_type": "code",
      "metadata": {
        "colab": {
          "base_uri": "https://localhost:8080/",
          "height": 34
        },
        "id": "hgersnxZeQMm",
        "outputId": "c2eef226-c923-4c10-94e5-2f906b1d42a9"
      },
      "source": [
        "#다시 문자열로 결합\n",
        "''.join(sorted(b))"
      ],
      "execution_count": 55,
      "outputs": [
        {
          "output_type": "execute_result",
          "data": {
            "application/vnd.google.colaboratory.intrinsic+json": {
              "type": "string"
            },
            "text/plain": [
              "'abdfz'"
            ]
          },
          "metadata": {
            "tags": []
          },
          "execution_count": 55
        }
      ]
    },
    {
      "cell_type": "markdown",
      "metadata": {
        "id": "NZnUsRwbe1dM"
      },
      "source": [
        "*   alist.sort() -> 리스트 자체를 제자리 정렬\n",
        "*   alist = blist.sort() -> 잘못된 구문\n",
        "\n",
        "\n",
        "\n",
        "\n",
        "\n"
      ]
    },
    {
      "cell_type": "code",
      "metadata": {
        "colab": {
          "base_uri": "https://localhost:8080/"
        },
        "id": "0Wfg6Drxem4b",
        "outputId": "23c0ca97-8b22-433d-93f5-55b97a846207"
      },
      "source": [
        "#길이 순서로 정렬\n",
        "c= ['ccc','aaaa','d','bb']\n",
        "sorted(c,key=len)"
      ],
      "execution_count": 56,
      "outputs": [
        {
          "output_type": "execute_result",
          "data": {
            "text/plain": [
              "['d', 'bb', 'ccc', 'aaaa']"
            ]
          },
          "metadata": {
            "tags": []
          },
          "execution_count": 56
        }
      ]
    },
    {
      "cell_type": "code",
      "metadata": {
        "colab": {
          "base_uri": "https://localhost:8080/"
        },
        "id": "J7-ZemL8frLJ",
        "outputId": "522363c1-99b6-4500-cddd-f60cf11bb928"
      },
      "source": [
        "#첫 문자열과 마지막 문자열 순으로 정렬\n",
        "#마지막 e와 c를 비교\n",
        "a= ['cde','cfc','abc']\n",
        "\n",
        "def fn(s):\n",
        "  return s[0],s[-1]\n",
        "\n",
        "print(sorted(a,key=fn))"
      ],
      "execution_count": 57,
      "outputs": [
        {
          "output_type": "stream",
          "text": [
            "['abc', 'cfc', 'cde']\n"
          ],
          "name": "stdout"
        }
      ]
    },
    {
      "cell_type": "code",
      "metadata": {
        "colab": {
          "base_uri": "https://localhost:8080/"
        },
        "id": "5niyGHPOgGWO",
        "outputId": "ae75b274-92fc-4992-f74f-14082fcc48a9"
      },
      "source": [
        "#람다 표현식\n",
        "a=['cde','cfc','abc']\n",
        "sorted(a,key=lambda s:(s[0],s[-1]))"
      ],
      "execution_count": 58,
      "outputs": [
        {
          "output_type": "execute_result",
          "data": {
            "text/plain": [
              "['abc', 'cfc', 'cde']"
            ]
          },
          "metadata": {
            "tags": []
          },
          "execution_count": 58
        }
      ]
    },
    {
      "cell_type": "markdown",
      "metadata": {
        "id": "wwxDkdC4h_gQ"
      },
      "source": [
        "### *06) 가장 긴 팰린드롬 부분 문자열*"
      ]
    },
    {
      "cell_type": "code",
      "metadata": {
        "id": "r7f9dhQhjcgf"
      },
      "source": [
        "#중앙을 중심으로 확장하는 풀이\n",
        "def longestPalindrome(s:str)->str:\n",
        "  #팰린드롬 판별 및 투 포인터 확장\n",
        "  def expand(left:int, right:int)->str:\n",
        "    while left >=0 and right <= len(s) and s[left] == s[right-1]:\n",
        "      left -=1\n",
        "      right +=1\n",
        "    return s[left+1:right-1]\n",
        "  \n",
        "  #해당 사항이 없을 때 빠르게 리턴\n",
        "  if len(s)<2 or s== s[::-1]:\n",
        "    return s\n",
        "  result=''\n",
        "  #슬라이딩 윈도우 우측으로 이동\n",
        "  for i in range(len(s)-1):\n",
        "    result = max(result,\n",
        "                     expand(i,i+1),\n",
        "                     expand(i,i+2),\n",
        "                     key=len)\n",
        "  return result"
      ],
      "execution_count": 60,
      "outputs": []
    },
    {
      "cell_type": "code",
      "metadata": {
        "colab": {
          "base_uri": "https://localhost:8080/",
          "height": 34
        },
        "id": "wMaZpmh-t4Qi",
        "outputId": "fa05f9b9-bb1a-4e2f-a5c7-dcde363e020d"
      },
      "source": [
        "longestPalindrome('babad')"
      ],
      "execution_count": 61,
      "outputs": [
        {
          "output_type": "execute_result",
          "data": {
            "application/vnd.google.colaboratory.intrinsic+json": {
              "type": "string"
            },
            "text/plain": [
              "'bab'"
            ]
          },
          "metadata": {
            "tags": []
          },
          "execution_count": 61
        }
      ]
    },
    {
      "cell_type": "markdown",
      "metadata": {
        "id": "2x72QTvZgeMI"
      },
      "source": [
        "#**7장 배열**\n",
        "### 배열: 값 또는 변수 엘리먼트의 집합으로 구성된 구조"
      ]
    },
    {
      "cell_type": "markdown",
      "metadata": {
        "id": "F3xorhhYxQT5"
      },
      "source": [
        "###*07) 두 수의 합*"
      ]
    },
    {
      "cell_type": "code",
      "metadata": {
        "id": "LGkZE-KZymvf"
      },
      "source": [
        "#브루트 포스로 계산\n",
        "def twoSum(nums:List[int],target:int)->List[int]:\n",
        "  for i in range(len(nums)):\n",
        "    for j in range(i+1,len(nums)):\n",
        "      if nums[i]+nums[j] == target:\n",
        "        return [i,j]"
      ],
      "execution_count": 62,
      "outputs": []
    },
    {
      "cell_type": "code",
      "metadata": {
        "id": "JahkR2Sd04lE"
      },
      "source": [
        "#in을 이용한 탐색\n",
        "def twoSum(nums:List[int],target:int)->List[int]:\n",
        "  for i,n in enumerate(nums):\n",
        "    #target에서 첫번째 값이 리스트에 있는지\n",
        "    complement = target - n\n",
        "\n",
        "    if complement in nums[i+1:]:\n",
        "      return nums.index(n), nums[i+1:].index(complement)+(i+1)"
      ],
      "execution_count": 63,
      "outputs": []
    },
    {
      "cell_type": "code",
      "metadata": {
        "id": "eA3Gx8Cr04xT"
      },
      "source": [
        "#첫 번째 수를 뺀 결과 키 조회\n",
        "def twoSum(nums:List[int],target:int)->List[int]:\n",
        "  nums_map = {}\n",
        "  #키와 값을 바꿔서 딕셔너리로 저장\n",
        "  for i,num in enumerate(nums):\n",
        "    nums_map[num]= i\n",
        "  \n",
        "  #타겟에서 첫 번째 수를 뺀 결과를 키로 조회\n",
        "  for i,num in enumerate(nums):\n",
        "   if target - num in nums_map and i != nums_map[target - num]:\n",
        "     return nums.index(num), nums_map[target-num]"
      ],
      "execution_count": null,
      "outputs": []
    },
    {
      "cell_type": "code",
      "metadata": {
        "colab": {
          "base_uri": "https://localhost:8080/"
        },
        "id": "BCnwiEHZ2xLg",
        "outputId": "9fc82556-4535-4af2-f405-48920069aadf"
      },
      "source": [
        "twoSum([2,7,11,15],9)"
      ],
      "execution_count": 64,
      "outputs": [
        {
          "output_type": "execute_result",
          "data": {
            "text/plain": [
              "(0, 1)"
            ]
          },
          "metadata": {
            "tags": []
          },
          "execution_count": 64
        }
      ]
    },
    {
      "cell_type": "code",
      "metadata": {
        "id": "kYIz5uUs4xPD"
      },
      "source": [
        "#조회 구조 개선\n",
        "def twoSum(nums:List[int],target:int)->List[int]:\n",
        "  nums_map = {}\n",
        "  #하나의 for문으로 통합\n",
        "  for i,num in enumerate(nums):\n",
        "   if target - num in nums_map:\n",
        "     return  [nums_map[target-num],i]\n",
        "   nums_map[num] =i"
      ],
      "execution_count": 65,
      "outputs": []
    },
    {
      "cell_type": "code",
      "metadata": {
        "colab": {
          "base_uri": "https://localhost:8080/"
        },
        "id": "4ollIe7b7GRC",
        "outputId": "d0b19dab-b02e-4186-9792-5200b5785715"
      },
      "source": [
        "twoSum([2,7,11,15],9)"
      ],
      "execution_count": 66,
      "outputs": [
        {
          "output_type": "execute_result",
          "data": {
            "text/plain": [
              "[0, 1]"
            ]
          },
          "metadata": {
            "tags": []
          },
          "execution_count": 66
        }
      ]
    },
    {
      "cell_type": "code",
      "metadata": {
        "id": "Y-Smw9J25ugV"
      },
      "source": [
        "#투 포인터 이용-> nums가 정렬된 상태가 아니기에 코딩테스트 사용하지 말 것\n",
        "def twoSum(nums:List[int],target:int)->List[int]:\n",
        "  left, right=0, len(nums)-1\n",
        "  while not left == right:\n",
        "    #합이 타겟보다 크면 오른쪽 포인터를 왼쪽으로\n",
        "    if nums[left]+nums[right]<target:\n",
        "      left +=1\n",
        "    #합이 타겟보다 작으면 왼쪽 포인터를 오른쪽으로 \n",
        "    elif nums[left]+nums[right]>target:\n",
        "      right-=1\n",
        "    else:\n",
        "      return left, right"
      ],
      "execution_count": 67,
      "outputs": []
    },
    {
      "cell_type": "code",
      "metadata": {
        "colab": {
          "base_uri": "https://localhost:8080/"
        },
        "id": "fYLSIJiL7JMB",
        "outputId": "fde064ed-f942-40b2-ef3f-d4f9543f53d9"
      },
      "source": [
        "twoSum([2,7,11,15],9)"
      ],
      "execution_count": 68,
      "outputs": [
        {
          "output_type": "execute_result",
          "data": {
            "text/plain": [
              "(0, 1)"
            ]
          },
          "metadata": {
            "tags": []
          },
          "execution_count": 68
        }
      ]
    },
    {
      "cell_type": "markdown",
      "metadata": {
        "id": "Y6_sScHCxQKi"
      },
      "source": [
        "### *08) 빗물 트래핑*"
      ]
    },
    {
      "cell_type": "code",
      "metadata": {
        "id": "VylGYRVO9CJ-"
      },
      "source": [
        "def trap(height:List[int])->int:\n",
        "  if not height:\n",
        "    return 0\n",
        "  \n",
        "  volume = 0\n",
        "  left,right = 0, len(height)-1\n",
        "  left_max,right_max = height[left],height[right]\n",
        "\n",
        "  while left<right:\n",
        "    left_max, right_max = max(height[left],left_max),max(height[right],right_max)\n",
        "    #더 높은 쪽을 향해 투 포인터 이동\n",
        "    if left_max <= right_max:\n",
        "      volume+=left_max - height[left]\n",
        "      left +=1\n",
        "    else:\n",
        "      volume += right_max - height[right]\n",
        "      right -=1\n",
        "  return volume"
      ],
      "execution_count": 69,
      "outputs": []
    },
    {
      "cell_type": "code",
      "metadata": {
        "id": "h_iglgDX-Wiy"
      },
      "source": [
        "#스택 쌓기\n",
        "def trap(height:List[int])->int:\n",
        "  stack= []\n",
        "  volume= 0\n",
        "  \n",
        "  for i in range(len(height)):\n",
        "    #변곡점을 만나는 경우\n",
        "    while stack and height[i]> height[stack[-1]]:\n",
        "      #스택에서 꺼낸다\n",
        "     top=stack.pop()\n",
        "\n",
        "     if not len(stack):\n",
        "       break\n",
        "     #이전과의 차이만큼 물 높이 처리\n",
        "     distance=i- stack[-1]-1\n",
        "     waters=min(height[i],height[stack[-1]])-height[top]\n",
        "\n",
        "     volume+=distance*waters\n",
        "    stack.append(i)\n",
        "  return volume"
      ],
      "execution_count": 70,
      "outputs": []
    },
    {
      "cell_type": "code",
      "metadata": {
        "colab": {
          "base_uri": "https://localhost:8080/"
        },
        "id": "Zp4r1TIC8IA6",
        "outputId": "599e55ed-297d-456c-c928-fafb98270857"
      },
      "source": [
        "trap([0,1,0,2,1,0,1,3,2,1,2,1])"
      ],
      "execution_count": 71,
      "outputs": [
        {
          "output_type": "execute_result",
          "data": {
            "text/plain": [
              "6"
            ]
          },
          "metadata": {
            "tags": []
          },
          "execution_count": 71
        }
      ]
    },
    {
      "cell_type": "markdown",
      "metadata": {
        "id": "A0o8Rkadxzri"
      },
      "source": [
        "###*09) 세 수의 합*"
      ]
    },
    {
      "cell_type": "code",
      "metadata": {
        "id": "SrAu5L3m4fQV"
      },
      "source": [
        "#브루트 포스로 계산->타임아웃\n",
        "def threeSum(nums: List[int])->List[List[int]]:\n",
        "  results=[]\n",
        "  nums.sort()\n",
        "\n",
        "  #브루트 포스 n^3 반복\n",
        "  for i in range(len(nums)-2):\n",
        "    #중복된 값 건너뛰기\n",
        "    if i>0 and nums[i] == nums[i-1]:\n",
        "      continue\n",
        "    for j in range(i+1,len(nums)-1):\n",
        "      if j> i+1 and nums[j] == nums[j-1]:\n",
        "        continue\n",
        "      for k in range(j+1,len(nums)):\n",
        "         if k> j+1 and nums[k] == nums[k-1]:\n",
        "            continue\n",
        "         if nums[i]+nums[j]+nums[k] == 0:\n",
        "           results.append((nums[i],nums[j],nums[k]))\n",
        "  return results"
      ],
      "execution_count": 73,
      "outputs": []
    },
    {
      "cell_type": "code",
      "metadata": {
        "colab": {
          "base_uri": "https://localhost:8080/"
        },
        "id": "TeefzztE9Mep",
        "outputId": "372eaae1-e58b-4a7e-dd3b-7121e706cce1"
      },
      "source": [
        "threeSum([-1,0,1,2,-1,-4])"
      ],
      "execution_count": 74,
      "outputs": [
        {
          "output_type": "execute_result",
          "data": {
            "text/plain": [
              "[(-1, -1, 2), (-1, 0, 1)]"
            ]
          },
          "metadata": {
            "tags": []
          },
          "execution_count": 74
        }
      ]
    },
    {
      "cell_type": "code",
      "metadata": {
        "id": "pNYO_D5G-kSY"
      },
      "source": [
        "#투 포인터로 합 계산\n",
        "def threeSum(nums: List[int])->List[List[int]]:\n",
        "  results=[]\n",
        "  nums.sort()\n",
        "\n",
        "  for i in range(len(nums)-2):\n",
        "    #중복된 값 건너뛰기\n",
        "    if i>0 and nums[i] == nums[i-1]:\n",
        "      continue\n",
        "    \n",
        "    #간격을 좁혀가며 합 sum 계산\n",
        "    left,right = i+1, len(nums)-1\n",
        "    while left < right:\n",
        "      sum= nums[i]+nums[left]+nums[right]\n",
        "      #sum이 0보다 작다면 left를 키워야함\n",
        "      if sum<0:\n",
        "        left+=1\n",
        "      #sum이 0보다 크다면 값을 작게 하기 위해 right을 좌측\n",
        "      elif sum>0:\n",
        "        right-=1\n",
        "      else:\n",
        "        #sum = 0인 경우이므로 정답 및 스킵 처리\n",
        "        results.append((nums[i],nums[left],nums[right]))\n",
        "        while left< right and nums[left]==nums[left+1]:\n",
        "          left+=1\n",
        "        while left< right and nums[right]==nums[right-1]:\n",
        "          right-=1\n",
        "        left+=1\n",
        "        right-=1\n",
        "  return results"
      ],
      "execution_count": 75,
      "outputs": []
    },
    {
      "cell_type": "code",
      "metadata": {
        "colab": {
          "base_uri": "https://localhost:8080/"
        },
        "id": "Yb2L1kJiJUXP",
        "outputId": "823b1fc2-61ad-4726-eff7-fe9027357fbf"
      },
      "source": [
        "threeSum([-1,0,1,2,-1,-4])"
      ],
      "execution_count": 76,
      "outputs": [
        {
          "output_type": "execute_result",
          "data": {
            "text/plain": [
              "[(-1, -1, 2), (-1, 0, 1)]"
            ]
          },
          "metadata": {
            "tags": []
          },
          "execution_count": 76
        }
      ]
    },
    {
      "cell_type": "markdown",
      "metadata": {
        "id": "zGJ9gLw3x6J3"
      },
      "source": [
        "###*10) 배열 파티션 1*"
      ]
    },
    {
      "cell_type": "code",
      "metadata": {
        "id": "vG-WrsEWJXNd"
      },
      "source": [
        "#오름차순 풀이\n",
        "def arrayPairSum(nums:List[int])->int:\n",
        "  sum=0\n",
        "  pair=[]\n",
        "  nums.sort()\n",
        "\n",
        "  for n in nums:\n",
        "    #앞에서부터 오름차순으로 페어를 만들어서 합 계산\n",
        "    pair.append(n)\n",
        "    if len(pair)==2:\n",
        "      sum+=min(pair)\n",
        "      pair=[]\n",
        "  return sum"
      ],
      "execution_count": 79,
      "outputs": []
    },
    {
      "cell_type": "code",
      "metadata": {
        "colab": {
          "base_uri": "https://localhost:8080/"
        },
        "id": "fK6WBMhvKpa7",
        "outputId": "de69db84-fd42-494e-b629-6f56e536553d"
      },
      "source": [
        "arrayPairSum([1,4,3,2])"
      ],
      "execution_count": 80,
      "outputs": [
        {
          "output_type": "execute_result",
          "data": {
            "text/plain": [
              "4"
            ]
          },
          "metadata": {
            "tags": []
          },
          "execution_count": 80
        }
      ]
    },
    {
      "cell_type": "code",
      "metadata": {
        "id": "MaHlt_WNKyP1"
      },
      "source": [
        "#짝수 번째 값 계산\n",
        "def arrayPairSum(nums:List[int])->int:\n",
        "  sum=0\n",
        "  nums.sort()\n",
        "\n",
        "  for i, n in enumerate(nums):\n",
        "    #짝수 번째 값의 합 계산\n",
        "    if i%2==0:\n",
        "      sum+=n\n",
        "  return sum"
      ],
      "execution_count": 81,
      "outputs": []
    },
    {
      "cell_type": "code",
      "metadata": {
        "colab": {
          "base_uri": "https://localhost:8080/"
        },
        "id": "plRZ51irLwua",
        "outputId": "ca7b25f7-7d38-46b0-8442-66537216848d"
      },
      "source": [
        "arrayPairSum([1,4,3,2])"
      ],
      "execution_count": 82,
      "outputs": [
        {
          "output_type": "execute_result",
          "data": {
            "text/plain": [
              "4"
            ]
          },
          "metadata": {
            "tags": []
          },
          "execution_count": 82
        }
      ]
    },
    {
      "cell_type": "code",
      "metadata": {
        "id": "1nUB-3OrL1bj"
      },
      "source": [
        "#파이썬다운 방식\n",
        "def arrayPairSum(nums:List[int])->int:\n",
        "  return sum(sorted(nums)[::2])"
      ],
      "execution_count": 86,
      "outputs": []
    },
    {
      "cell_type": "code",
      "metadata": {
        "colab": {
          "base_uri": "https://localhost:8080/"
        },
        "id": "wh_Oqj1wL9D4",
        "outputId": "1ca37d86-8b43-4018-e5e0-a104caa6c963"
      },
      "source": [
        "arrayPairSum([1,4,3,2])"
      ],
      "execution_count": 87,
      "outputs": [
        {
          "output_type": "execute_result",
          "data": {
            "text/plain": [
              "4"
            ]
          },
          "metadata": {
            "tags": []
          },
          "execution_count": 87
        }
      ]
    },
    {
      "cell_type": "markdown",
      "metadata": {
        "id": "TAOZOQP_yJM7"
      },
      "source": [
        "### *11) 자신을 제외한 배열의 곱*"
      ]
    },
    {
      "cell_type": "code",
      "metadata": {
        "id": "l9-gs2I6MeZL"
      },
      "source": [
        "def productExceptSelf(nums:List[int])->List[int]:\n",
        "  out=[]\n",
        "  p=1\n",
        "  #왼쪽 곱셈\n",
        "  for i in range(0,len(nums)):\n",
        "    out.append(p)\n",
        "    p=p*nums[i]\n",
        "  p=1\n",
        "  #왼쪽 곱셈 결과에 오른쪽 값을 차례대로 곱셈\n",
        "  for i in range(len(nums)-1,0-1,-1):\n",
        "    out[i]=out[i]*p\n",
        "    p=p*nums[i]\n",
        "  return out"
      ],
      "execution_count": 88,
      "outputs": []
    },
    {
      "cell_type": "code",
      "metadata": {
        "colab": {
          "base_uri": "https://localhost:8080/"
        },
        "id": "aLdvmjhzNxz_",
        "outputId": "30bea82f-32d8-4025-ee83-e73393e85f1e"
      },
      "source": [
        "productExceptSelf([1,2,3,4])"
      ],
      "execution_count": 89,
      "outputs": [
        {
          "output_type": "execute_result",
          "data": {
            "text/plain": [
              "[24, 12, 8, 6]"
            ]
          },
          "metadata": {
            "tags": []
          },
          "execution_count": 89
        }
      ]
    },
    {
      "cell_type": "markdown",
      "metadata": {
        "id": "x6Kzve7lyQ5e"
      },
      "source": [
        "###*12) 주식을 사고팔기 가장 좋은 시점*"
      ]
    },
    {
      "cell_type": "code",
      "metadata": {
        "id": "gJLxARWevYvp"
      },
      "source": [
        "#브루트포스로 계산-> 타임아웃\n",
        "def maxProfit(prices:List[int])->int:\n",
        "  max_price=0\n",
        "\n",
        "  for i, price in enumerate(prices):\n",
        "    for j in range(i,len(prices)):\n",
        "      max_price=max(prices[j]-price,max_price)\n",
        "    \n",
        "  return max_price"
      ],
      "execution_count": 90,
      "outputs": []
    },
    {
      "cell_type": "code",
      "metadata": {
        "colab": {
          "base_uri": "https://localhost:8080/"
        },
        "id": "dawrWVc6PRPh",
        "outputId": "ce8742fc-8e7f-4029-8e5f-bc7686a385fe"
      },
      "source": [
        "maxProfit([7,1,5,3,6,4])"
      ],
      "execution_count": 91,
      "outputs": [
        {
          "output_type": "execute_result",
          "data": {
            "text/plain": [
              "5"
            ]
          },
          "metadata": {
            "tags": []
          },
          "execution_count": 91
        }
      ]
    },
    {
      "cell_type": "code",
      "metadata": {
        "id": "Vl02-NdtPWed"
      },
      "source": [
        "#저점과 현재 값과의 차이 계산\n",
        "import sys\n",
        "def maxProfit(prices:List[int])->int:\n",
        "  profit=0\n",
        "  #최솟값에 가장 큰 값 지정\n",
        "  min_price=sys.maxsize\n",
        "\n",
        "  #최솟값과 최댓값을 계속 갱신\n",
        "  for price in prices:\n",
        "      min_price=min(min_price,price)\n",
        "      profit=max(profit,price-min_price)\n",
        "    \n",
        "  return profit"
      ],
      "execution_count": 96,
      "outputs": []
    },
    {
      "cell_type": "code",
      "metadata": {
        "colab": {
          "base_uri": "https://localhost:8080/"
        },
        "id": "Aihr42lIQT7i",
        "outputId": "3a0dc397-b4d1-40ae-8409-74b33d250150"
      },
      "source": [
        "maxProfit([7,1,5,3,6,4])"
      ],
      "execution_count": 97,
      "outputs": [
        {
          "output_type": "execute_result",
          "data": {
            "text/plain": [
              "5"
            ]
          },
          "metadata": {
            "tags": []
          },
          "execution_count": 97
        }
      ]
    }
  ]
}