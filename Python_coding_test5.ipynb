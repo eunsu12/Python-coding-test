{
  "nbformat": 4,
  "nbformat_minor": 0,
  "metadata": {
    "colab": {
      "name": "Python coding test5.ipynb",
      "provenance": [],
      "authorship_tag": "ABX9TyMTM1bYhQJGmROKZMtwQQfQ",
      "include_colab_link": true
    },
    "kernelspec": {
      "name": "python3",
      "display_name": "Python 3"
    },
    "language_info": {
      "name": "python"
    }
  },
  "cells": [
    {
      "cell_type": "markdown",
      "metadata": {
        "id": "view-in-github",
        "colab_type": "text"
      },
      "source": [
        "<a href=\"https://colab.research.google.com/github/eunsu12/Python-coding-test/blob/main/Python_coding_test5.ipynb\" target=\"_parent\"><img src=\"https://colab.research.google.com/assets/colab-badge.svg\" alt=\"Open In Colab\"/></a>"
      ]
    },
    {
      "cell_type": "markdown",
      "metadata": {
        "id": "O6jisEJOSiQG"
      },
      "source": [
        "## **18) 홀짝 연결 리스트**\n",
        "### 연결 리스트를 홀수 노드 다음에 짝수 노드가 오도록 재구성하라."
      ]
    },
    {
      "cell_type": "code",
      "metadata": {
        "id": "SfeyUN8CVMfr"
      },
      "source": [
        "class ListNode:\n",
        "    def __init__(self, x):\n",
        "        self.val = x\n",
        "        self.next = None\n",
        "\n",
        "\n",
        "class Solution:\n",
        "    def oddEvenList(self, head: ListNode) -> ListNode:\n",
        "        # 예외 처리\n",
        "        if head is None:\n",
        "            return None\n",
        "\n",
        "        odd = head\n",
        "        even = head.next\n",
        "        even_head = head.next\n",
        "\n",
        "        # 반복하면서 홀짝 노드 처리\n",
        "        while even and even.next:\n",
        "            odd.next, even.next = odd.next.next, even.next.next\n",
        "            odd, even = odd.next, even.next\n",
        "\n",
        "        # 홀수 노드의 마지막을 짝수 헤드로 연결\n",
        "        odd.next = even_head\n",
        "        return head"
      ],
      "execution_count": 1,
      "outputs": []
    },
    {
      "cell_type": "markdown",
      "metadata": {
        "id": "lXixevpyWojV"
      },
      "source": [
        "## **19) 역순 연결 리스트 2**\n",
        "### 인덱스 m에서 n까지를 역순으로 만들어라. 인덱스 m은 1부터 시작한다."
      ]
    },
    {
      "cell_type": "code",
      "metadata": {
        "id": "R-bPATczSRvb"
      },
      "source": [
        "class ListNode:\n",
        "    def __init__(self, x):\n",
        "        self.val = x\n",
        "        self.next = None\n",
        "\n",
        "\n",
        "class Solution:\n",
        "    def reverseBetween(self, head: ListNode, m: int, n: int) -> ListNode:\n",
        "        # 예외 처리\n",
        "        if not head or m == n:\n",
        "            return head\n",
        "\n",
        "        root = start = ListNode(None)\n",
        "        root.next = head\n",
        "        # start, end 지정\n",
        "        for _ in range(m - 1):\n",
        "            start = start.next\n",
        "        end = start.next\n",
        "\n",
        "        # 반복하면서 노드 차례대로 뒤집기\n",
        "        #_의 다양한 기능\n",
        "        for _ in range(n - m):\n",
        "            tmp, start.next, end.next = start.next, end.next, end.next.next\n",
        "            start.next.next = tmp\n",
        "        return root.next"
      ],
      "execution_count": 2,
      "outputs": []
    },
    {
      "cell_type": "markdown",
      "metadata": {
        "id": "V_8Y_jexXGhy"
      },
      "source": [
        "## **20) 유효한 괄호**\n",
        "### 괄호로 된 입력값이 올바른지 판별해라."
      ]
    },
    {
      "cell_type": "code",
      "metadata": {
        "id": "xc-3rQRIXFr0"
      },
      "source": [
        "class Solution:\n",
        "    def isValid(self, s: str) -> bool:\n",
        "        stack = []\n",
        "        table = {\n",
        "            ')': '(',\n",
        "            '}': '{',\n",
        "            ']': '[',\n",
        "        }\n",
        "\n",
        "        # 스택 이용 예외 처리 및 일치 여부 판별\n",
        "        for char in s:\n",
        "            if char not in table:\n",
        "                stack.append(char)\n",
        "            elif not stack or table[char] != stack.pop():\n",
        "                return False\n",
        "        return len(stack) == 0"
      ],
      "execution_count": 3,
      "outputs": []
    }
  ]
}