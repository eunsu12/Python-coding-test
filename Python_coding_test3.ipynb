{
  "nbformat": 4,
  "nbformat_minor": 0,
  "metadata": {
    "colab": {
      "name": "Python coding test3.ipynb",
      "provenance": [],
      "authorship_tag": "ABX9TyPIrZmf5tVftfg+SU/adrE7",
      "include_colab_link": true
    },
    "kernelspec": {
      "name": "python3",
      "display_name": "Python 3"
    },
    "language_info": {
      "name": "python"
    }
  },
  "cells": [
    {
      "cell_type": "markdown",
      "metadata": {
        "id": "view-in-github",
        "colab_type": "text"
      },
      "source": [
        "<a href=\"https://colab.research.google.com/github/eunsu12/Python-coding-test/blob/main/Python_coding_test3.ipynb\" target=\"_parent\"><img src=\"https://colab.research.google.com/assets/colab-badge.svg\" alt=\"Open In Colab\"/></a>"
      ]
    },
    {
      "cell_type": "markdown",
      "metadata": {
        "id": "nIoaTrmtoouY"
      },
      "source": [
        "\n",
        "\n",
        "## **1.  복습**\n",
        "## **2.  모르는 것 정리**\n",
        "\n"
      ]
    },
    {
      "cell_type": "markdown",
      "metadata": {
        "id": "I-xwXHb8o8zY"
      },
      "source": [
        " lambda에 매개변수를 지정하고 :(콜론) 뒤에 반환값"
      ]
    },
    {
      "cell_type": "code",
      "metadata": {
        "colab": {
          "base_uri": "https://localhost:8080/"
        },
        "id": "Jzk8GZ6Ho7ml",
        "outputId": "c88c4c3e-c732-43e0-943b-cb3b3de774ba"
      },
      "source": [
        "#인덱스를 위한 변수를 별도로 관리\n",
        "#가장 깔끔한 방식\n",
        "a=[1,2,3,2,45,2,5]\n",
        "\n",
        "for i,v in enumerate(a):\n",
        "  print(i,v)"
      ],
      "execution_count": 3,
      "outputs": [
        {
          "output_type": "stream",
          "text": [
            "0 1\n",
            "1 2\n",
            "2 3\n",
            "3 2\n",
            "4 45\n",
            "5 2\n",
            "6 5\n"
          ],
          "name": "stdout"
        }
      ]
    },
    {
      "cell_type": "code",
      "metadata": {
        "colab": {
          "base_uri": "https://localhost:8080/"
        },
        "id": "L8k6qERJtkvN",
        "outputId": "b3ffa7da-d7ed-4433-fc24-58487c29f577"
      },
      "source": [
        "#몫과 나머지를 한 번에 구할 때\n",
        "divmod(5,3)"
      ],
      "execution_count": 8,
      "outputs": [
        {
          "output_type": "execute_result",
          "data": {
            "text/plain": [
              "(1, 2)"
            ]
          },
          "metadata": {
            "tags": []
          },
          "execution_count": 8
        }
      ]
    },
    {
      "cell_type": "markdown",
      "metadata": {
        "id": "CIUuBN6nuMON"
      },
      "source": [
        "idx=1\n",
        "\n",
        "fruit='Apple'\n",
        "\n",
        "print('{0}:{1}'.format(idx+1,fruit))\n",
        "\n",
        "print('{}:{}'.format(idx+1,fruit))\n",
        "\n",
        "print(f'{idx+1}:{fruit}')"
      ]
    },
    {
      "cell_type": "code",
      "metadata": {
        "id": "QjJpKYs4tlFS"
      },
      "source": [
        "#구글 파이썬 스타일 가이드\n",
        "#불변 객체 사용\n",
        "def foo(a,b=None):\n",
        "  if b is None:\n",
        "    b=[]"
      ],
      "execution_count": 5,
      "outputs": []
    },
    {
      "cell_type": "markdown",
      "metadata": {
        "id": "nNcDUZ1hvuwN"
      },
      "source": [
        "**오류 이유?**"
      ]
    },
    {
      "cell_type": "code",
      "metadata": {
        "id": "fqfK8QgzvUml"
      },
      "source": [
        "#해결\n",
        "from typing import Optional\n",
        "from typing import Sequence\n",
        "def foo(a,b: Optional[Sequence]=None):\n",
        "  if b is None:\n",
        "   b=[]"
      ],
      "execution_count": 7,
      "outputs": []
    },
    {
      "cell_type": "code",
      "metadata": {
        "colab": {
          "base_uri": "https://localhost:8080/"
        },
        "id": "35mdow6xwazI",
        "outputId": "9dff26fb-1003-47bf-d596-6a9de60f96bd"
      },
      "source": [
        "#object>int>bool\n",
        "True==1,False==0"
      ],
      "execution_count": 9,
      "outputs": [
        {
          "output_type": "execute_result",
          "data": {
            "text/plain": [
              "(True, True)"
            ]
          },
          "metadata": {
            "tags": []
          },
          "execution_count": 9
        }
      ]
    },
    {
      "cell_type": "markdown",
      "metadata": {
        "id": "OdGLUCAVxfWt"
      },
      "source": [
        "==:값을 비교, is:id()값을 비교\n",
        "\n",
        "a를 list로 한 번 더 묶으면 별도의 객체로 복사"
      ]
    },
    {
      "cell_type": "markdown",
      "metadata": {
        "id": "z23InuQ7xjrL"
      },
      "source": [
        "\n",
        "요소를 삭제하는 방법\n",
        "\n",
        "*   인덱스로 삭제하기-> del a[3], a.pop(3)\n",
        "*   값으로 삭제하기-> a. remove(값)"
      ]
    },
    {
      "cell_type": "markdown",
      "metadata": {
        "id": "J3ET7MlYzM8l"
      },
      "source": [
        "아이템에 대한 개수를 계산해 딕셔너리로 리턴\n",
        "\n",
        "a=[1,2,3,4,5,5,5,6,6]\n",
        "\n",
        "b=collections.Counter(a)\n",
        "\n",
        "입력 그대로 순서가 유지->\n",
        "collections.OrderedDict({'banana':3,'apple':4,'pear':1,'orange':2})\n"
      ]
    },
    {
      "cell_type": "markdown",
      "metadata": {
        "id": "h3m_graGP4fb"
      },
      "source": [
        "```\n",
        "while len(strs)>1: # 리스트 모든 원소 비교\n",
        "    if strs.pop(0) != strs.pop():\n",
        "      return False\n",
        "return True\n",
        "\n",
        "\n",
        "from typing import List\n",
        "def reverseString(s:List[str])->None:\n",
        "  left, right = 0, len(s)-1             -> 의미?\n",
        "  while left < right:\n",
        "    s[left],s[right]=s[right],s[left]\n",
        "    left += 1\n",
        "    right -= 1\n",
        "  print(s)\n",
        "\n",
        "#람다 표현식\n",
        "a=['cde','cfc','abc']\n",
        "sorted(a,key=lambda s:(s[0],s[-1]))\n",
        "```\n",
        "\n"
      ]
    },
    {
      "cell_type": "code",
      "metadata": {
        "colab": {
          "base_uri": "https://localhost:8080/"
        },
        "id": "Rd_1xP-DWX9E",
        "outputId": "6b719b33-d0f8-493c-e181-84c7f6661562"
      },
      "source": [
        "from typing import List\n",
        "def reorderLogFiles(logs:List[str])->List[str]:\n",
        "  letters, digits = [], []\n",
        "  for log in logs:\n",
        "    if log.split()[1].isdigit():\n",
        "      digits.append(log)\n",
        "    else:\n",
        "      letters.append(log)\n",
        "      \n",
        "  # 2개의 키를 람다 표현식으로 정렬\n",
        "  letters.sort(key=lambda x: (x.split()[1],x.split()[0]))    # 1: 이라고 쓴 이유???\n",
        "  return letters + digits\n",
        "\n",
        "reorderLogFiles(['dig1 8 1 5 1', 'let1 art can','dig2 3 6','let2 own kit dig','let3 art zero'])"
      ],
      "execution_count": 14,
      "outputs": [
        {
          "output_type": "execute_result",
          "data": {
            "text/plain": [
              "['let1 art can',\n",
              " 'let3 art zero',\n",
              " 'let2 own kit dig',\n",
              " 'dig1 8 1 5 1',\n",
              " 'dig2 3 6']"
            ]
          },
          "metadata": {
            "tags": []
          },
          "execution_count": 14
        }
      ]
    },
    {
      "cell_type": "markdown",
      "metadata": {
        "id": "evgNODr44F2l"
      },
      "source": [
        "## **self라는 매개변수는 왜 쓰는가?**\n",
        "## **전에는 오류가 났는데 지금은 오류가 안남 이상하다**"
      ]
    },
    {
      "cell_type": "code",
      "metadata": {
        "id": "0U_cCFOnW85U"
      },
      "source": [
        "def twoSum(self, nums: List[int], target: int) -> List[int]:\n",
        "    for i, n in enumerate(nums):\n",
        "        complement = target - n\n",
        "        \n",
        "        if complement in nums[i + 1:]:\n",
        "            return nums.index(n), nums[i + 1].index(complement) + (i + 1)"
      ],
      "execution_count": 17,
      "outputs": []
    }
  ]
}