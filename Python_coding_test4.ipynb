{
  "nbformat": 4,
  "nbformat_minor": 0,
  "metadata": {
    "colab": {
      "name": "Python coding test4.ipynb",
      "provenance": [],
      "authorship_tag": "ABX9TyNYe2QM35aL/KoepcPaRoz/",
      "include_colab_link": true
    },
    "kernelspec": {
      "name": "python3",
      "display_name": "Python 3"
    },
    "language_info": {
      "name": "python"
    }
  },
  "cells": [
    {
      "cell_type": "markdown",
      "metadata": {
        "id": "view-in-github",
        "colab_type": "text"
      },
      "source": [
        "<a href=\"https://colab.research.google.com/github/eunsu12/Python-coding-test/blob/main/Python_coding_test4.ipynb\" target=\"_parent\"><img src=\"https://colab.research.google.com/assets/colab-badge.svg\" alt=\"Open In Colab\"/></a>"
      ]
    },
    {
      "cell_type": "markdown",
      "metadata": {
        "id": "oCOB_XJIMx5B"
      },
      "source": [
        "# **13) 팰린드롬 연결 리스트**\n",
        "-> 연결리스트를 리스트로 바꾸고 팰린드롬 판별이 필요함\n",
        "-> 리스트를 담을 변수랑 팰린드롬 판별할때 [::1] == [::-1]?"
      ]
    },
    {
      "cell_type": "code",
      "metadata": {
        "id": "WlnKHPeyMSz8"
      },
      "source": [
        "class ListNode:\n",
        "  def __init__(self, x):\n",
        "    self.val= x\n",
        "    self.next = None\n",
        "\n",
        "from typing import List\n",
        "\n",
        "def isPalindrome(self, head:ListNode) -> bool:\n",
        "  q: List = []\n",
        "\n",
        "  if not head:\n",
        "    return True\n",
        "  \n",
        "  node = head\n",
        "  #리스트 변환\n",
        "  while node is not None:\n",
        "    q.append(node.val)\n",
        "    node = node.next\n",
        "\n",
        "  #팰린드롬 판별\n",
        "  while len(q) > 1:\n",
        "    if q.pop(0) != q.pop():\n",
        "      return False\n",
        "    \n",
        "  return True"
      ],
      "execution_count": 23,
      "outputs": []
    },
    {
      "cell_type": "code",
      "metadata": {
        "id": "rxzA3ya5lXwG"
      },
      "source": [
        "import collections\n",
        "from typing import Deque\n",
        "\n",
        "\n",
        "class Solution:\n",
        "    def isPalindrome(self, head: ListNode) -> bool:\n",
        "        # 데크 자료형 선언\n",
        "        q: Deque = collections.deque()\n",
        "\n",
        "        if not head:\n",
        "            return True\n",
        "\n",
        "        node = head\n",
        "        while node is not None:\n",
        "            q.append(node.val)\n",
        "            node = node.next\n",
        "\n",
        "        while len(q) > 1:\n",
        "            if q.popleft() != q.pop():\n",
        "                return False\n",
        "\n",
        "        return True"
      ],
      "execution_count": 26,
      "outputs": []
    },
    {
      "cell_type": "markdown",
      "metadata": {
        "id": "SJiF6uxASx09"
      },
      "source": [
        "# **15) 역순 연결리스트**\n",
        "-> reverse 이용? 마찬가지로 [::-1] 사용?"
      ]
    },
    {
      "cell_type": "code",
      "metadata": {
        "id": "iBB11QxrlusK"
      },
      "source": [
        " def reverseList(self, head: ListNode) -> ListNode:\n",
        "        def reverse(node: ListNode, prev: ListNode = None):\n",
        "            if not node:\n",
        "                return prev\n",
        "            next, node.next = node.next, prev\n",
        "            return reverse(next, node)\n",
        "\n",
        "        return reverse(head)"
      ],
      "execution_count": 27,
      "outputs": []
    },
    {
      "cell_type": "code",
      "metadata": {
        "id": "ZYMr2e7hoBzn"
      },
      "source": [
        "  def reverseList(self, head: ListNode) -> ListNode:\n",
        "        node, prev = head, None\n",
        "\n",
        "        while node:\n",
        "            next, node.next = node.next, prev\n",
        "            prev, node = node, next\n",
        "\n",
        "        return prev"
      ],
      "execution_count": 31,
      "outputs": []
    },
    {
      "cell_type": "markdown",
      "metadata": {
        "id": "tUjCUa3pSx_E"
      },
      "source": [
        "# **17) 페어의 노드 스왑**\n",
        " 지금 값과 다음값 교환을 해야함...\n",
        " \n",
        " 지금 값에서 다다음값과 다다다음값 교환을 해야함..."
      ]
    },
    {
      "cell_type": "code",
      "metadata": {
        "id": "CFtaL0U-oSvR"
      },
      "source": [
        "  def swapPairs(self, head: ListNode) -> ListNode:\n",
        "        cur = head\n",
        "\n",
        "        while cur and cur.next:\n",
        "            # 값만 교환\n",
        "            cur.val, cur.next.val = cur.next.val, cur.val\n",
        "            cur = cur.next.next\n",
        "\n",
        "        return head"
      ],
      "execution_count": 34,
      "outputs": []
    },
    {
      "cell_type": "code",
      "metadata": {
        "id": "-Uj5_rG5oS51"
      },
      "source": [
        " def swapPairs(self, head: ListNode) -> ListNode:\n",
        "        root = prev = ListNode(None)\n",
        "        prev.next = head\n",
        "        while head and head.next:\n",
        "            # b가 a(head)를 가리키도록\n",
        "            b = head.next\n",
        "            head.next = b.next\n",
        "            b.next = head\n",
        "\n",
        "            # prev가 b를 가리키도록\n",
        "            prev.next = b\n",
        "\n",
        "            # 다음 번 비교를 위해 이동\n",
        "            head = head.next\n",
        "            prev = prev.next.next\n",
        "        return root.next"
      ],
      "execution_count": 35,
      "outputs": []
    },
    {
      "cell_type": "code",
      "metadata": {
        "id": "FxyfF7i4qPF2"
      },
      "source": [
        "  def swapPairs(self, head: ListNode) -> ListNode:\n",
        "        if head and head.next:\n",
        "            p = head.next\n",
        "            # 스왑된 값 리턴 받음\n",
        "            head.next = self.swapPairs(p.next)\n",
        "            p.next = head\n",
        "            return p\n",
        "        return head"
      ],
      "execution_count": 36,
      "outputs": []
    },
    {
      "cell_type": "markdown",
      "metadata": {
        "id": "Bq9S_LKKqadD"
      },
      "source": [
        "####**각 함수를 사용하려면 함수이름()에 ()안에 무엇이 들어가야 하는가1->2->3오류**"
      ]
    }
  ]
}